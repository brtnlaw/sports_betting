{
 "cells": [
  {
   "cell_type": "markdown",
   "metadata": {},
   "source": [
    "This serves to examine if there's any use predicting the distribution of halves. Namely, we want to see if there's enough variance in the half time points scored to where having a strong predictive model can make money. If variance is low, for instance, we will get crushed by vig probably."
   ]
  },
  {
   "cell_type": "markdown",
   "metadata": {},
   "source": [
    "### Hypothesis 1: There is enough variance in half time points scored relative to the total that we can take advantage of."
   ]
  },
  {
   "cell_type": "code",
   "execution_count": 11,
   "metadata": {},
   "outputs": [],
   "source": [
    "from db_utils import retrieve_data\n",
    "import os\n",
    "import matplotlib.pyplot as plt\n",
    "path = r\"c:\\Users\\brtnl\\OneDrive\\Desktop\\code\\sports_betting\"\n",
    "os.chdir(path)"
   ]
  },
  {
   "cell_type": "code",
   "execution_count": null,
   "metadata": {},
   "outputs": [],
   "source": [
    "query = \"\"\"SELECT * FROM cfb.all_games\"\"\"\n",
    "df = retrieve_data(query)\n",
    "plt.scatter(df[\"home_points\"], df[\"home_first_quarter\"] + df[\"home_second_quarter\"])\n",
    "plt.show()"
   ]
  }
 ],
 "metadata": {
  "kernelspec": {
   "display_name": "venv",
   "language": "python",
   "name": "python3"
  },
  "language_info": {
   "codemirror_mode": {
    "name": "ipython",
    "version": 3
   },
   "file_extension": ".py",
   "mimetype": "text/x-python",
   "name": "python",
   "nbconvert_exporter": "python",
   "pygments_lexer": "ipython3",
   "version": "3.12.2"
  }
 },
 "nbformat": 4,
 "nbformat_minor": 2
}
