{
 "cells": [
  {
   "cell_type": "markdown",
   "metadata": {},
   "source": [
    "This serves to examine if there's any use predicting the distribution of halves. Namely, we want to see if there's enough variance in the half time points scored to where having a strong predictive model can make money. If variance is low, for instance, we will get crushed by vig probably."
   ]
  },
  {
   "cell_type": "markdown",
   "metadata": {},
   "source": []
  }
 ],
 "metadata": {
  "language_info": {
   "name": "python"
  }
 },
 "nbformat": 4,
 "nbformat_minor": 2
}
