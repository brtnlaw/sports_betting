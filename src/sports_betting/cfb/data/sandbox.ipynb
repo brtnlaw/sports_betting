{
 "cells": [
  {
   "cell_type": "code",
   "execution_count": 2,
   "metadata": {},
   "outputs": [],
   "source": [
    "import re\n",
    "from bs4 import BeautifulSoup\n",
    "import datetime as dt\n",
    "from urllib.request import urlopen\n",
    "from db_utils import retrieve_data, generate_unique_game_id, get_rank_from_row\n",
    "from scrape_all_games_data import get_daily_games_at_date\n",
    "from io import StringIO\n",
    "import pandas as pd"
   ]
  },
  {
   "cell_type": "code",
   "execution_count": null,
   "metadata": {},
   "outputs": [
    {
     "data": {
      "text/html": [
       "<div>\n",
       "<style scoped>\n",
       "    .dataframe tbody tr th:only-of-type {\n",
       "        vertical-align: middle;\n",
       "    }\n",
       "\n",
       "    .dataframe tbody tr th {\n",
       "        vertical-align: top;\n",
       "    }\n",
       "\n",
       "    .dataframe thead th {\n",
       "        text-align: right;\n",
       "    }\n",
       "</style>\n",
       "<table border=\"1\" class=\"dataframe\">\n",
       "  <thead>\n",
       "    <tr style=\"text-align: right;\">\n",
       "      <th></th>\n",
       "      <th>date</th>\n",
       "      <th>home</th>\n",
       "      <th>home_points</th>\n",
       "      <th>visitor</th>\n",
       "      <th>visitor_points</th>\n",
       "      <th>home_rank</th>\n",
       "      <th>visitor_rank</th>\n",
       "      <th>unique_id</th>\n",
       "    </tr>\n",
       "  </thead>\n",
       "  <tbody>\n",
       "    <tr>\n",
       "      <th>0</th>\n",
       "      <td>2019-09-20</td>\n",
       "      <td>Air Force</td>\n",
       "      <td>19</td>\n",
       "      <td>Boise State</td>\n",
       "      <td>30</td>\n",
       "      <td>None</td>\n",
       "      <td>20</td>\n",
       "      <td>8c4cf8c37a30e603e57f6a32f98121ea</td>\n",
       "    </tr>\n",
       "    <tr>\n",
       "      <th>0</th>\n",
       "      <td>2019-09-20</td>\n",
       "      <td>Florida International</td>\n",
       "      <td>31</td>\n",
       "      <td>Louisiana Tech</td>\n",
       "      <td>43</td>\n",
       "      <td>None</td>\n",
       "      <td>None</td>\n",
       "      <td>2d8031519c2508fba29981931f335a7f</td>\n",
       "    </tr>\n",
       "    <tr>\n",
       "      <th>0</th>\n",
       "      <td>2019-09-20</td>\n",
       "      <td>Utah</td>\n",
       "      <td>23</td>\n",
       "      <td>USC</td>\n",
       "      <td>30</td>\n",
       "      <td>10</td>\n",
       "      <td>None</td>\n",
       "      <td>a27f5a3f7bfd23b20eccd8c6b96d826c</td>\n",
       "    </tr>\n",
       "  </tbody>\n",
       "</table>\n",
       "</div>"
      ],
      "text/plain": [
       "        date  ...                         unique_id\n",
       "0 2019-09-20  ...  8c4cf8c37a30e603e57f6a32f98121ea\n",
       "0 2019-09-20  ...  2d8031519c2508fba29981931f335a7f\n",
       "0 2019-09-20  ...  a27f5a3f7bfd23b20eccd8c6b96d826c\n",
       "\n",
       "[3 rows x 8 columns]"
      ]
     },
     "execution_count": 3,
     "metadata": {},
     "output_type": "execute_result"
    }
   ],
   "source": [
    "# get_daily_games_at_date(dt.date(2019, 9, 20))"
   ]
  },
  {
   "cell_type": "code",
   "execution_count": 4,
   "metadata": {},
   "outputs": [],
   "source": [
    "# # date = \n",
    "# base_url = \"https://www.sports-reference.com/cfb/boxscores/index.cgi\"\n",
    "# url = f\"{base_url}/{date.strftime('%Y-%m-%d')}-{home}.html\""
   ]
  },
  {
   "cell_type": "code",
   "execution_count": 5,
   "metadata": {},
   "outputs": [],
   "source": [
    "url = \"https://www.sports-reference.com/cfb/boxscores/2025-01-20-notre-dame.html\"\n",
    "html = urlopen(url)\n",
    "soup = BeautifulSoup(html, features=\"html.parser\")\n",
    "cand_divs = soup.find_all(attrs={\"class\": re.compile(\"linescore nohover\")})"
   ]
  },
  {
   "cell_type": "code",
   "execution_count": 6,
   "metadata": {},
   "outputs": [],
   "source": [
    "html_io = StringIO(str(cand_divs[0]))\n",
    "df = pd.read_html(html_io)[0]"
   ]
  },
  {
   "cell_type": "code",
   "execution_count": 20,
   "metadata": {},
   "outputs": [],
   "source": [
    "# double check OT formatting.\n",
    "# TODO: get the unique ID to match it to\n",
    "# visitor = 0\n",
    "visitor_row = df.iloc[1]\n",
    "visitor_row[\"Unnamed: 1\"].replace(u'\\xa0', ' ')\n",
    "visitor = get_rank_from_row(visitor_row, \"Unnamed: 1\")[0]"
   ]
  },
  {
   "cell_type": "code",
   "execution_count": 18,
   "metadata": {},
   "outputs": [
    {
     "data": {
      "text/plain": [
       "Unnamed: 0    via Sports Logos.net About logos\n",
       "Unnamed: 1                      Notre Dame (3)\n",
       "1                                            7\n",
       "2                                            0\n",
       "3                                            8\n",
       "4                                            8\n",
       "Final                                       23\n",
       "Name: 1, dtype: object"
      ]
     },
     "execution_count": 18,
     "metadata": {},
     "output_type": "execute_result"
    }
   ],
   "source": [
    "visitor_row"
   ]
  },
  {
   "cell_type": "code",
   "execution_count": null,
   "metadata": {},
   "outputs": [
    {
     "data": {
      "text/plain": [
       "('Notre Dame', 3)"
      ]
     },
     "execution_count": 19,
     "metadata": {},
     "output_type": "execute_result"
    }
   ],
   "source": [
    "# 1, 2, 3, 4 and if 5 "
   ]
  },
  {
   "cell_type": "code",
   "execution_count": null,
   "metadata": {},
   "outputs": [],
   "source": [
    "[\"visitor\", \"home\"]\n",
    "[\"first_quarter\", \"first_half\", \"third_quarter\", \"fourth_quarter\"]\n",
    "for i in range(2):\n"
   ]
  },
  {
   "cell_type": "code",
   "execution_count": 24,
   "metadata": {},
   "outputs": [
    {
     "data": {
      "text/plain": [
       "('Ohio State', 6)"
      ]
     },
     "execution_count": 24,
     "metadata": {},
     "output_type": "execute_result"
    }
   ],
   "source": [
    "get_rank_from_row([df[\"Unnamed: 1\"][0].replace(u'\\xa0', ' ')])"
   ]
  },
  {
   "cell_type": "code",
   "execution_count": 25,
   "metadata": {},
   "outputs": [
    {
     "data": {
      "text/plain": [
       "'Notre Dame'"
      ]
     },
     "execution_count": 25,
     "metadata": {},
     "output_type": "execute_result"
    }
   ],
   "source": [
    "visitor"
   ]
  },
  {
   "cell_type": "code",
   "execution_count": null,
   "metadata": {},
   "outputs": [],
   "source": [
    "import datetime as dt\n",
    "# import pandas as pd\n",
    "# import psycopg2\n",
    "# import pytz\n",
    "# import re\n",
    "# import sys\n",
    "# import time\n",
    "# import warnings\n",
    "# from bs4 import BeautifulSoup\n",
    "# from io import StringIO\n",
    "# from psycopg2.extras import execute_values\n",
    "# from psycopg2.extensions import AsIs\n",
    "# from typing import List\n",
    "# from urllib.request import urlopen\n",
    "# import sys\n",
    "# # from src.db_utils import generate_unique_game_id, execute_sql_script\n",
    "# from sports_betting.src.cfb.data.scrape_all_games_data import get_daily_games_at_date, clean_df, insert_daily_games_at_date, backfill_games\n",
    "# from typing import Callable\n",
    "# from db_utils import load_config, retrieve_data"
   ]
  },
  {
   "cell_type": "code",
   "execution_count": 1,
   "metadata": {},
   "outputs": [
    {
     "name": "stdout",
     "output_type": "stream",
     "text": [
      "['C:\\\\Users\\\\brtnl\\\\AppData\\\\Local\\\\Programs\\\\Python\\\\Python312\\\\python312.zip', 'C:\\\\Users\\\\brtnl\\\\AppData\\\\Local\\\\Programs\\\\Python\\\\Python312\\\\DLLs', 'C:\\\\Users\\\\brtnl\\\\AppData\\\\Local\\\\Programs\\\\Python\\\\Python312\\\\Lib', 'C:\\\\Users\\\\brtnl\\\\AppData\\\\Local\\\\Programs\\\\Python\\\\Python312', 'c:\\\\Users\\\\brtnl\\\\OneDrive\\\\Desktop\\\\code\\\\sports_betting\\\\venv', '', 'c:\\\\Users\\\\brtnl\\\\OneDrive\\\\Desktop\\\\code\\\\sports_betting\\\\venv\\\\Lib\\\\site-packages', 'C:\\\\Users\\\\brtnl\\\\OneDrive\\\\Desktop\\\\code\\\\sports_betting\\\\src', 'c:\\\\Users\\\\brtnl\\\\OneDrive\\\\Desktop\\\\code\\\\sports_betting\\\\venv\\\\Lib\\\\site-packages\\\\win32', 'c:\\\\Users\\\\brtnl\\\\OneDrive\\\\Desktop\\\\code\\\\sports_betting\\\\venv\\\\Lib\\\\site-packages\\\\win32\\\\lib', 'c:\\\\Users\\\\brtnl\\\\OneDrive\\\\Desktop\\\\code\\\\sports_betting\\\\venv\\\\Lib\\\\site-packages\\\\Pythonwin']\n"
     ]
    }
   ],
   "source": [
    "import sys\n",
    "print(sys.path)"
   ]
  },
  {
   "cell_type": "code",
   "execution_count": 3,
   "metadata": {},
   "outputs": [
    {
     "ename": "ModuleNotFoundError",
     "evalue": "No module named 'pandas'",
     "output_type": "error",
     "traceback": [
      "\u001b[1;31m---------------------------------------------------------------------------\u001b[0m",
      "\u001b[1;31mModuleNotFoundError\u001b[0m                       Traceback (most recent call last)",
      "Cell \u001b[1;32mIn[3], line 1\u001b[0m\n\u001b[1;32m----> 1\u001b[0m \u001b[38;5;28;01mimport\u001b[39;00m\u001b[38;5;250m \u001b[39m\u001b[38;5;21;01mdb_utils\u001b[39;00m\n",
      "File \u001b[1;32m~\\OneDrive\\Desktop\\code\\sports_betting\\src\\db_utils.py:2\u001b[0m\n\u001b[0;32m      1\u001b[0m \u001b[38;5;28;01mimport\u001b[39;00m\u001b[38;5;250m \u001b[39m\u001b[38;5;21;01mhashlib\u001b[39;00m\n\u001b[1;32m----> 2\u001b[0m \u001b[38;5;28;01mimport\u001b[39;00m\u001b[38;5;250m \u001b[39m\u001b[38;5;21;01mpandas\u001b[39;00m\u001b[38;5;250m \u001b[39m\u001b[38;5;28;01mas\u001b[39;00m\u001b[38;5;250m \u001b[39m\u001b[38;5;21;01mpd\u001b[39;00m\n\u001b[0;32m      3\u001b[0m \u001b[38;5;28;01mimport\u001b[39;00m\u001b[38;5;250m \u001b[39m\u001b[38;5;21;01mdatetime\u001b[39;00m\u001b[38;5;250m \u001b[39m\u001b[38;5;28;01mas\u001b[39;00m\u001b[38;5;250m \u001b[39m\u001b[38;5;21;01mdt\u001b[39;00m\n\u001b[0;32m      4\u001b[0m \u001b[38;5;28;01mimport\u001b[39;00m\u001b[38;5;250m \u001b[39m\u001b[38;5;21;01mmatplotlib\u001b[39;00m\u001b[38;5;21;01m.\u001b[39;00m\u001b[38;5;21;01mpyplot\u001b[39;00m\u001b[38;5;250m \u001b[39m\u001b[38;5;28;01mas\u001b[39;00m\u001b[38;5;250m \u001b[39m\u001b[38;5;21;01mplt\u001b[39;00m\n",
      "\u001b[1;31mModuleNotFoundError\u001b[0m: No module named 'pandas'"
     ]
    }
   ],
   "source": [
    "import db_utils"
   ]
  },
  {
   "cell_type": "code",
   "execution_count": 2,
   "metadata": {},
   "outputs": [
    {
     "name": "stderr",
     "output_type": "stream",
     "text": [
      "WARNING: pip is being invoked by an old script wrapper. This will fail in a future version of pip.\n",
      "Please see https://github.com/pypa/pip/issues/5599 for advice on fixing the underlying issue.\n",
      "To avoid this problem you can invoke Python with '-m pip' instead of running pip directly.\n"
     ]
    },
    {
     "data": {
      "text/html": [
       "<pre style=\"white-space:pre;overflow-x:auto;line-height:normal;font-family:Menlo,'DejaVu Sans Mono',consolas,'Courier New',monospace\">Package           Version\n",
       "</pre>\n"
      ],
      "text/plain": [
       "Package           Version\n"
      ]
     },
     "metadata": {},
     "output_type": "display_data"
    },
    {
     "data": {
      "text/html": [
       "<pre style=\"white-space:pre;overflow-x:auto;line-height:normal;font-family:Menlo,'DejaVu Sans Mono',consolas,'Courier New',monospace\">----------------- -----------\n",
       "</pre>\n"
      ],
      "text/plain": [
       "----------------- -----------\n"
      ]
     },
     "metadata": {},
     "output_type": "display_data"
    },
    {
     "data": {
      "text/html": [
       "<pre style=\"white-space:pre;overflow-x:auto;line-height:normal;font-family:Menlo,'DejaVu Sans Mono',consolas,'Courier New',monospace\">asttokens         3.0.0\n",
       "</pre>\n"
      ],
      "text/plain": [
       "asttokens         3.0.0\n"
      ]
     },
     "metadata": {},
     "output_type": "display_data"
    },
    {
     "data": {
      "text/html": [
       "<pre style=\"white-space:pre;overflow-x:auto;line-height:normal;font-family:Menlo,'DejaVu Sans Mono',consolas,'Courier New',monospace\">colorama          0.4.6\n",
       "</pre>\n"
      ],
      "text/plain": [
       "colorama          0.4.6\n"
      ]
     },
     "metadata": {},
     "output_type": "display_data"
    },
    {
     "data": {
      "text/html": [
       "<pre style=\"white-space:pre;overflow-x:auto;line-height:normal;font-family:Menlo,'DejaVu Sans Mono',consolas,'Courier New',monospace\">comm              0.2.2\n",
       "</pre>\n"
      ],
      "text/plain": [
       "comm              0.2.2\n"
      ]
     },
     "metadata": {},
     "output_type": "display_data"
    },
    {
     "data": {
      "text/html": [
       "<pre style=\"white-space:pre;overflow-x:auto;line-height:normal;font-family:Menlo,'DejaVu Sans Mono',consolas,'Courier New',monospace\">debugpy           1.8.11\n",
       "</pre>\n"
      ],
      "text/plain": [
       "debugpy           1.8.11\n"
      ]
     },
     "metadata": {},
     "output_type": "display_data"
    },
    {
     "data": {
      "text/html": [
       "<pre style=\"white-space:pre;overflow-x:auto;line-height:normal;font-family:Menlo,'DejaVu Sans Mono',consolas,'Courier New',monospace\">decorator         5.1.1\n",
       "</pre>\n"
      ],
      "text/plain": [
       "decorator         5.1.1\n"
      ]
     },
     "metadata": {},
     "output_type": "display_data"
    },
    {
     "data": {
      "text/html": [
       "<pre style=\"white-space:pre;overflow-x:auto;line-height:normal;font-family:Menlo,'DejaVu Sans Mono',consolas,'Courier New',monospace\">executing         2.1.0\n",
       "</pre>\n"
      ],
      "text/plain": [
       "executing         2.1.0\n"
      ]
     },
     "metadata": {},
     "output_type": "display_data"
    },
    {
     "data": {
      "text/html": [
       "<pre style=\"white-space:pre;overflow-x:auto;line-height:normal;font-family:Menlo,'DejaVu Sans Mono',consolas,'Courier New',monospace\">ipykernel         6.29.5\n",
       "</pre>\n"
      ],
      "text/plain": [
       "ipykernel         6.29.5\n"
      ]
     },
     "metadata": {},
     "output_type": "display_data"
    },
    {
     "data": {
      "text/html": [
       "<pre style=\"white-space:pre;overflow-x:auto;line-height:normal;font-family:Menlo,'DejaVu Sans Mono',consolas,'Courier New',monospace\">ipython           8.31.0\n",
       "</pre>\n"
      ],
      "text/plain": [
       "ipython           8.31.0\n"
      ]
     },
     "metadata": {},
     "output_type": "display_data"
    },
    {
     "data": {
      "text/html": [
       "<pre style=\"white-space:pre;overflow-x:auto;line-height:normal;font-family:Menlo,'DejaVu Sans Mono',consolas,'Courier New',monospace\">jedi              0.19.2\n",
       "</pre>\n"
      ],
      "text/plain": [
       "jedi              0.19.2\n"
      ]
     },
     "metadata": {},
     "output_type": "display_data"
    },
    {
     "data": {
      "text/html": [
       "<pre style=\"white-space:pre;overflow-x:auto;line-height:normal;font-family:Menlo,'DejaVu Sans Mono',consolas,'Courier New',monospace\">jupyter_client    8.6.3\n",
       "</pre>\n"
      ],
      "text/plain": [
       "jupyter_client    8.6.3\n"
      ]
     },
     "metadata": {},
     "output_type": "display_data"
    },
    {
     "data": {
      "text/html": [
       "<pre style=\"white-space:pre;overflow-x:auto;line-height:normal;font-family:Menlo,'DejaVu Sans Mono',consolas,'Courier New',monospace\">jupyter_core      5.7.2\n",
       "</pre>\n"
      ],
      "text/plain": [
       "jupyter_core      5.7.2\n"
      ]
     },
     "metadata": {},
     "output_type": "display_data"
    },
    {
     "data": {
      "text/html": [
       "<pre style=\"white-space:pre;overflow-x:auto;line-height:normal;font-family:Menlo,'DejaVu Sans Mono',consolas,'Courier New',monospace\">matplotlib-inline 0.1.7\n",
       "</pre>\n"
      ],
      "text/plain": [
       "matplotlib-inline 0.1.7\n"
      ]
     },
     "metadata": {},
     "output_type": "display_data"
    },
    {
     "data": {
      "text/html": [
       "<pre style=\"white-space:pre;overflow-x:auto;line-height:normal;font-family:Menlo,'DejaVu Sans Mono',consolas,'Courier New',monospace\">nest-asyncio      1.6.0\n",
       "</pre>\n"
      ],
      "text/plain": [
       "nest-asyncio      1.6.0\n"
      ]
     },
     "metadata": {},
     "output_type": "display_data"
    },
    {
     "data": {
      "text/html": [
       "<pre style=\"white-space:pre;overflow-x:auto;line-height:normal;font-family:Menlo,'DejaVu Sans Mono',consolas,'Courier New',monospace\">packaging         24.2\n",
       "</pre>\n"
      ],
      "text/plain": [
       "packaging         24.2\n"
      ]
     },
     "metadata": {},
     "output_type": "display_data"
    },
    {
     "data": {
      "text/html": [
       "<pre style=\"white-space:pre;overflow-x:auto;line-height:normal;font-family:Menlo,'DejaVu Sans Mono',consolas,'Courier New',monospace\">parso             0.8.4\n",
       "</pre>\n"
      ],
      "text/plain": [
       "parso             0.8.4\n"
      ]
     },
     "metadata": {},
     "output_type": "display_data"
    },
    {
     "data": {
      "text/html": [
       "<pre style=\"white-space:pre;overflow-x:auto;line-height:normal;font-family:Menlo,'DejaVu Sans Mono',consolas,'Courier New',monospace\">pip               24.3.1\n",
       "</pre>\n"
      ],
      "text/plain": [
       "pip               24.3.1\n"
      ]
     },
     "metadata": {},
     "output_type": "display_data"
    },
    {
     "data": {
      "text/html": [
       "<pre style=\"white-space:pre;overflow-x:auto;line-height:normal;font-family:Menlo,'DejaVu Sans Mono',consolas,'Courier New',monospace\">platformdirs      4.3.6\n",
       "</pre>\n"
      ],
      "text/plain": [
       "platformdirs      4.3.6\n"
      ]
     },
     "metadata": {},
     "output_type": "display_data"
    },
    {
     "data": {
      "text/html": [
       "<pre style=\"white-space:pre;overflow-x:auto;line-height:normal;font-family:Menlo,'DejaVu Sans Mono',consolas,'Courier New',monospace\">prompt_toolkit    3.0.48\n",
       "</pre>\n"
      ],
      "text/plain": [
       "prompt_toolkit    3.0.48\n"
      ]
     },
     "metadata": {},
     "output_type": "display_data"
    },
    {
     "data": {
      "text/html": [
       "<pre style=\"white-space:pre;overflow-x:auto;line-height:normal;font-family:Menlo,'DejaVu Sans Mono',consolas,'Courier New',monospace\">psutil            6.1.1\n",
       "</pre>\n"
      ],
      "text/plain": [
       "psutil            6.1.1\n"
      ]
     },
     "metadata": {},
     "output_type": "display_data"
    },
    {
     "data": {
      "text/html": [
       "<pre style=\"white-space:pre;overflow-x:auto;line-height:normal;font-family:Menlo,'DejaVu Sans Mono',consolas,'Courier New',monospace\">pure_eval         0.2.3\n",
       "</pre>\n"
      ],
      "text/plain": [
       "pure_eval         0.2.3\n"
      ]
     },
     "metadata": {},
     "output_type": "display_data"
    },
    {
     "data": {
      "text/html": [
       "<pre style=\"white-space:pre;overflow-x:auto;line-height:normal;font-family:Menlo,'DejaVu Sans Mono',consolas,'Courier New',monospace\">Pygments          2.19.1\n",
       "</pre>\n"
      ],
      "text/plain": [
       "Pygments          2.19.1\n"
      ]
     },
     "metadata": {},
     "output_type": "display_data"
    },
    {
     "data": {
      "text/html": [
       "<pre style=\"white-space:pre;overflow-x:auto;line-height:normal;font-family:Menlo,'DejaVu Sans Mono',consolas,'Courier New',monospace\">python-dateutil   2.9.0.post0\n",
       "</pre>\n"
      ],
      "text/plain": [
       "python-dateutil   2.9.0.post0\n"
      ]
     },
     "metadata": {},
     "output_type": "display_data"
    },
    {
     "data": {
      "text/html": [
       "<pre style=\"white-space:pre;overflow-x:auto;line-height:normal;font-family:Menlo,'DejaVu Sans Mono',consolas,'Courier New',monospace\">pywin32           308\n",
       "</pre>\n"
      ],
      "text/plain": [
       "pywin32           308\n"
      ]
     },
     "metadata": {},
     "output_type": "display_data"
    },
    {
     "data": {
      "text/html": [
       "<pre style=\"white-space:pre;overflow-x:auto;line-height:normal;font-family:Menlo,'DejaVu Sans Mono',consolas,'Courier New',monospace\">pyzmq             26.2.0\n",
       "</pre>\n"
      ],
      "text/plain": [
       "pyzmq             26.2.0\n"
      ]
     },
     "metadata": {},
     "output_type": "display_data"
    },
    {
     "data": {
      "text/html": [
       "<pre style=\"white-space:pre;overflow-x:auto;line-height:normal;font-family:Menlo,'DejaVu Sans Mono',consolas,'Courier New',monospace\">six               1.17.0\n",
       "</pre>\n"
      ],
      "text/plain": [
       "six               1.17.0\n"
      ]
     },
     "metadata": {},
     "output_type": "display_data"
    },
    {
     "data": {
      "text/html": [
       "<pre style=\"white-space:pre;overflow-x:auto;line-height:normal;font-family:Menlo,'DejaVu Sans Mono',consolas,'Courier New',monospace\">sports_betting    0.1.0\n",
       "</pre>\n"
      ],
      "text/plain": [
       "sports_betting    0.1.0\n"
      ]
     },
     "metadata": {},
     "output_type": "display_data"
    },
    {
     "data": {
      "text/html": [
       "<pre style=\"white-space:pre;overflow-x:auto;line-height:normal;font-family:Menlo,'DejaVu Sans Mono',consolas,'Courier New',monospace\">stack-data        0.6.3\n",
       "</pre>\n"
      ],
      "text/plain": [
       "stack-data        0.6.3\n"
      ]
     },
     "metadata": {},
     "output_type": "display_data"
    },
    {
     "data": {
      "text/html": [
       "<pre style=\"white-space:pre;overflow-x:auto;line-height:normal;font-family:Menlo,'DejaVu Sans Mono',consolas,'Courier New',monospace\">tornado           6.4.2\n",
       "</pre>\n"
      ],
      "text/plain": [
       "tornado           6.4.2\n"
      ]
     },
     "metadata": {},
     "output_type": "display_data"
    },
    {
     "data": {
      "text/html": [
       "<pre style=\"white-space:pre;overflow-x:auto;line-height:normal;font-family:Menlo,'DejaVu Sans Mono',consolas,'Courier New',monospace\">traitlets         5.14.3\n",
       "</pre>\n"
      ],
      "text/plain": [
       "traitlets         5.14.3\n"
      ]
     },
     "metadata": {},
     "output_type": "display_data"
    },
    {
     "data": {
      "text/html": [
       "<pre style=\"white-space:pre;overflow-x:auto;line-height:normal;font-family:Menlo,'DejaVu Sans Mono',consolas,'Courier New',monospace\">wcwidth           0.2.13\n",
       "</pre>\n"
      ],
      "text/plain": [
       "wcwidth           0.2.13\n"
      ]
     },
     "metadata": {},
     "output_type": "display_data"
    },
    {
     "data": {
      "text/plain": [
       "0"
      ]
     },
     "execution_count": 2,
     "metadata": {},
     "output_type": "execute_result"
    }
   ],
   "source": [
    "from pip import _internal\n",
    "_internal.main(['list'])"
   ]
  },
  {
   "cell_type": "code",
   "execution_count": 3,
   "metadata": {},
   "outputs": [
    {
     "ename": "ModuleNotFoundError",
     "evalue": "No module named 'sports_betting'",
     "output_type": "error",
     "traceback": [
      "\u001b[1;31m---------------------------------------------------------------------------\u001b[0m",
      "\u001b[1;31mModuleNotFoundError\u001b[0m                       Traceback (most recent call last)",
      "Cell \u001b[1;32mIn[3], line 1\u001b[0m\n\u001b[1;32m----> 1\u001b[0m \u001b[38;5;28;01mimport\u001b[39;00m\u001b[38;5;250m \u001b[39m\u001b[38;5;21;01msports_betting\u001b[39;00m\n",
      "\u001b[1;31mModuleNotFoundError\u001b[0m: No module named 'sports_betting'"
     ]
    }
   ],
   "source": [
    "import sports_betting"
   ]
  },
  {
   "cell_type": "code",
   "execution_count": 3,
   "metadata": {},
   "outputs": [
    {
     "name": "stdout",
     "output_type": "stream",
     "text": [
      "['C:\\\\Users\\\\brtnl\\\\AppData\\\\Local\\\\Programs\\\\Python\\\\Python312\\\\python312.zip', 'C:\\\\Users\\\\brtnl\\\\AppData\\\\Local\\\\Programs\\\\Python\\\\Python312\\\\DLLs', 'C:\\\\Users\\\\brtnl\\\\AppData\\\\Local\\\\Programs\\\\Python\\\\Python312\\\\Lib', 'C:\\\\Users\\\\brtnl\\\\AppData\\\\Local\\\\Programs\\\\Python\\\\Python312', 'c:\\\\Users\\\\brtnl\\\\OneDrive\\\\Desktop\\\\code\\\\sports_betting\\\\venv', '', 'c:\\\\Users\\\\brtnl\\\\OneDrive\\\\Desktop\\\\code\\\\sports_betting\\\\venv\\\\Lib\\\\site-packages', 'c:\\\\Users\\\\brtnl\\\\OneDrive\\\\Desktop\\\\code\\\\sports_betting\\\\venv\\\\Lib\\\\site-packages\\\\win32', 'c:\\\\Users\\\\brtnl\\\\OneDrive\\\\Desktop\\\\code\\\\sports_betting\\\\venv\\\\Lib\\\\site-packages\\\\win32\\\\lib', 'c:\\\\Users\\\\brtnl\\\\OneDrive\\\\Desktop\\\\code\\\\sports_betting\\\\venv\\\\Lib\\\\site-packages\\\\Pythonwin']\n"
     ]
    }
   ],
   "source": [
    "\n",
    "import sys\n",
    "print(sys.path)"
   ]
  },
  {
   "cell_type": "code",
   "execution_count": null,
   "metadata": {},
   "outputs": [],
   "source": []
  },
  {
   "cell_type": "code",
   "execution_count": 6,
   "metadata": {
    "vscode": {
     "languageId": "powershell"
    }
   },
   "outputs": [
    {
     "name": "stdout",
     "output_type": "stream",
     "text": [
      "pip 24.3.1 from c:\\Users\\brtnl\\OneDrive\\Desktop\\code\\sports_betting\\venv\\Lib\\site-packages\\pip (python 3.12)\n",
      "\n",
      "Note: you may need to restart the kernel to use updated packages.\n"
     ]
    }
   ],
   "source": [
    "pip -V"
   ]
  },
  {
   "cell_type": "code",
   "execution_count": 6,
   "metadata": {},
   "outputs": [
    {
     "ename": "ModuleNotFoundError",
     "evalue": "No module named 'sports_betting'",
     "output_type": "error",
     "traceback": [
      "\u001b[1;31m---------------------------------------------------------------------------\u001b[0m",
      "\u001b[1;31mModuleNotFoundError\u001b[0m                       Traceback (most recent call last)",
      "Cell \u001b[1;32mIn[6], line 1\u001b[0m\n\u001b[1;32m----> 1\u001b[0m \u001b[38;5;28;01mimport\u001b[39;00m\u001b[38;5;250m \u001b[39m\u001b[38;5;21;01msports_betting\u001b[39;00m\n",
      "\u001b[1;31mModuleNotFoundError\u001b[0m: No module named 'sports_betting'"
     ]
    }
   ],
   "source": [
    "import sports_betting"
   ]
  },
  {
   "cell_type": "code",
   "execution_count": null,
   "metadata": {},
   "outputs": [],
   "source": [
    "def get_rank_from_row(row):\n",
    "    pattern2 = r\"^(.*?)\\s\\((\\d{1,2})\\)$\"\n",
    "    university = row[0]\n",
    "    match = re.fullmatch(pattern2, university)\n",
    "    if match:\n",
    "         return match.group(1), int(match.group(2))\n",
    "    else:\n",
    "         return university, None"
   ]
  },
  {
   "cell_type": "code",
   "execution_count": null,
   "metadata": {},
   "outputs": [
    {
     "data": {
      "text/plain": [
       "('Arizona', '21')"
      ]
     },
     "execution_count": 97,
     "metadata": {},
     "output_type": "execute_result"
    }
   ],
   "source": [
    "get_rank_from_row(all_games_table[5].iloc[2])"
   ]
  },
  {
   "cell_type": "code",
   "execution_count": null,
   "metadata": {},
   "outputs": [
    {
     "data": {
      "text/html": [
       "<div>\n",
       "<style scoped>\n",
       "    .dataframe tbody tr th:only-of-type {\n",
       "        vertical-align: middle;\n",
       "    }\n",
       "\n",
       "    .dataframe tbody tr th {\n",
       "        vertical-align: top;\n",
       "    }\n",
       "\n",
       "    .dataframe thead th {\n",
       "        text-align: right;\n",
       "    }\n",
       "</style>\n",
       "<table border=\"1\" class=\"dataframe\">\n",
       "  <thead>\n",
       "    <tr style=\"text-align: right;\">\n",
       "      <th></th>\n",
       "      <th>0</th>\n",
       "      <th>1</th>\n",
       "      <th>2</th>\n",
       "    </tr>\n",
       "  </thead>\n",
       "  <tbody>\n",
       "    <tr>\n",
       "      <th>0</th>\n",
       "      <td>Sat 8/31</td>\n",
       "      <td>Sat 8/31</td>\n",
       "      <td>Sat 8/31</td>\n",
       "    </tr>\n",
       "    <tr>\n",
       "      <th>1</th>\n",
       "      <td>New Mexico</td>\n",
       "      <td>39</td>\n",
       "      <td>Final</td>\n",
       "    </tr>\n",
       "    <tr>\n",
       "      <th>2</th>\n",
       "      <td>Arizona (21)</td>\n",
       "      <td>61</td>\n",
       "      <td>NaN</td>\n",
       "    </tr>\n",
       "  </tbody>\n",
       "</table>\n",
       "</div>"
      ],
      "text/plain": [
       "              0         1         2\n",
       "0      Sat 8/31  Sat 8/31  Sat 8/31\n",
       "1    New Mexico        39     Final\n",
       "2  Arizona (21)        61       NaN"
      ]
     },
     "execution_count": 94,
     "metadata": {},
     "output_type": "execute_result"
    }
   ],
   "source": [
    "all_games_table[5]"
   ]
  },
  {
   "cell_type": "code",
   "execution_count": null,
   "metadata": {},
   "outputs": [
    {
     "data": {
      "text/plain": [
       "'Western Kentucky'"
      ]
     },
     "execution_count": 79,
     "metadata": {},
     "output_type": "execute_result"
    }
   ],
   "source": [
    "temp.iloc[0][0]"
   ]
  },
  {
   "cell_type": "code",
   "execution_count": null,
   "metadata": {},
   "outputs": [
    {
     "data": {
      "text/plain": [
       "<re.Match object; span=(0, 20), match='Western Kentucky (5)'>"
      ]
     },
     "execution_count": 86,
     "metadata": {},
     "output_type": "execute_result"
    }
   ],
   "source": [
    "regex2 = r\".*\\(\\b([1-9]|1[0-9]|2[0-5])\\b\\)\"\n",
    "re.fullmatch(regex2, \"Western Kentucky (5)\")"
   ]
  },
  {
   "cell_type": "code",
   "execution_count": null,
   "metadata": {},
   "outputs": [
    {
     "name": "stderr",
     "output_type": "stream",
     "text": [
      "/var/folders/z_/5kxjclhd5090czxnlnxslydr0000gn/T/ipykernel_88211/1111760236.py:2: SettingWithCopyWarning: \n",
      "A value is trying to be set on a copy of a slice from a DataFrame.\n",
      "Try using .loc[row_indexer,col_indexer] = value instead\n",
      "\n",
      "See the caveats in the documentation: https://pandas.pydata.org/pandas-docs/stable/user_guide/indexing.html#returning-a-view-versus-a-copy\n",
      "  temp.loc[:, \"rank\"] = None\n"
     ]
    }
   ],
   "source": [
    "temp = all_games_table[3][1:]\n",
    "temp.loc[:, \"rank\"] = None\n",
    "# temp"
   ]
  },
  {
   "cell_type": "markdown",
   "metadata": {},
   "source": [
    "regex = \"^[A-Za-z]{3} \\d{1,2}/\\d{2}$\"\n",
    "string = all_games_table[3].iloc[0][0]\n",
    "\n",
    "s = re.fullmatch(regex, string)"
   ]
  },
  {
   "cell_type": "code",
   "execution_count": null,
   "metadata": {},
   "outputs": [
    {
     "data": {
      "text/plain": [
       "<re.Match object; span=(0, 8), match='Sat 8/31'>"
      ]
     },
     "execution_count": 64,
     "metadata": {},
     "output_type": "execute_result"
    }
   ],
   "source": [
    "s"
   ]
  },
  {
   "cell_type": "code",
   "execution_count": null,
   "metadata": {},
   "outputs": [],
   "source": [
    "month = month.lower()\n",
    "\n",
    "    # URL to scrape, notice f string:\n",
    "    url = (\n",
    "        f\"https://www.basketball-reference.com/leagues/NBA_%(year)s_games-%(month)s.html\"\n",
    "        % {\"year\": year, \"month\": month}\n",
    "    )\n",
    "    try:\n",
    "        html = urlopen(url)\n",
    "    except Exception as e:\n",
    "        print(e)\n",
    "        print(\n",
    "            \"Failure: %(month)s, %(year)s all_games URL not pulled\"\n",
    "            % {\"month\": month.capitalize(), \"year\": year}\n",
    "        )\n",
    "        return None\n",
    "\n",
    "    # Kicks you out if you request over 20 times over a minute\n",
    "    time.sleep(3.5)\n",
    "\n",
    "    soup = BeautifulSoup(html, features=\"html.parser\")\n",
    "\n",
    "    # Convert the tables into a string and wrap it with StringIO\n",
    "    tables = soup.find_all(\"table\", {\"id\": re.compile(\"schedule\")})\n",
    "    html_string = \"\\n\".join(str(table) for table in tables)\n",
    "    html_io = StringIO(html_string)\n",
    "\n",
    "    all_games_table = pd.read_html(html_io, header=0)[0]\n",
    "    all_games_table = clean_all_games_table(all_games_table)\n",
    "    if all_games_table is not None:\n",
    "        all_games_table[\"Unique_ID\"] = all_games_table.apply(\n",
    "            generate_unique_game_id, axis=1\n",
    "        )\n",
    "    return all_games_table"
   ]
  }
 ],
 "metadata": {
  "kernelspec": {
   "display_name": "venv",
   "language": "python",
   "name": "python3"
  },
  "language_info": {
   "codemirror_mode": {
    "name": "ipython",
    "version": 3
   },
   "file_extension": ".py",
   "mimetype": "text/x-python",
   "name": "python",
   "nbconvert_exporter": "python",
   "pygments_lexer": "ipython3",
   "version": "3.12.2"
  }
 },
 "nbformat": 4,
 "nbformat_minor": 2
}
