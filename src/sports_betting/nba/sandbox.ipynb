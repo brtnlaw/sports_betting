{
 "cells": [
  {
   "cell_type": "code",
   "execution_count": 2,
   "metadata": {},
   "outputs": [],
   "source": [
    "import sys\n",
    "sys.path.append('../')\n",
    "\n",
    "import pandas as pd \n",
    "import numpy as np\n",
    "from sklearn.neighbors import KernelDensity\n",
    "from model.feature_engineering import generate_features\n",
    "from sklearn.model_selection import train_test_split\n",
    "import numpy as np\n",
    "from nba.utils import load_config, retrieve_data\n",
    "import matplotlib.pyplot as plt\n",
    "import datetime as dt\n",
    "from model.generate_pmf import build_kde\n",
    "# https://kdepy.readthedocs.io/en/latest/examples.html"
   ]
  },
  {
   "cell_type": "code",
   "execution_count": 3,
   "metadata": {},
   "outputs": [],
   "source": [
    "query = \"SELECT * FROM basketball.stat_sheet ss\"\n",
    "data = retrieve_data(query)\n",
    "input_data = pd.Series({\n",
    "    \"player\": \"Zion Williamson\",\n",
    "    \"team\": \"NOP\",\n",
    "    \"opponent\": \"MIA\",\n",
    "    \"home\": \"NOP\",\n",
    "    \"date\": dt.date(2023, 6, 1),\n",
    "    \"points\": 15,\n",
    "    \"total_rebounds\": 8,\n",
    "    \"assists\": 3\n",
    "})\n",
    "features = [\"same_opponent\", \"same_player\", \"same_venue_status\", \"days_since_game\"]\n",
    "weights = [1] * len(features)"
   ]
  },
  {
   "cell_type": "code",
   "execution_count": 4,
   "metadata": {},
   "outputs": [],
   "source": [
    "kde = build_kde(data, input_data, features, weights, bandwidth=0.5)"
   ]
  },
  {
   "cell_type": "code",
   "execution_count": 5,
   "metadata": {},
   "outputs": [],
   "source": [
    "# # goal here is to build out the loss function\n",
    "# # want to buidl out maybe an 80 15 5 split of train_kde, train_weights, test\n",
    "# help(kde.score_samples)"
   ]
  },
  {
   "cell_type": "code",
   "execution_count": 6,
   "metadata": {},
   "outputs": [],
   "source": [
    "arr = np.array(input_data[[\"points\", \"total_rebounds\", \"assists\"]])"
   ]
  },
  {
   "cell_type": "code",
   "execution_count": 7,
   "metadata": {},
   "outputs": [
    {
     "data": {
      "text/plain": [
       "array([-6.61573828])"
      ]
     },
     "execution_count": 7,
     "metadata": {},
     "output_type": "execute_result"
    }
   ],
   "source": [
    "kde.score_samples(arr.reshape(1, -1))"
   ]
  },
  {
   "cell_type": "markdown",
   "metadata": {},
   "source": [
    "KDE probability with weighting. In our case, the $w_i(\\theta)$ is just a linear combination.\n",
    "$$\n",
    "p(x;\\theta) = \\frac{1}{\\sum_{i=1}^Nw_i(\\theta)}\\sum_{i=1}^Nw_i(\\theta)K\\Big(\\frac{x-x_i}{\\sigma}\\Big)\n",
    "$$\n",
    "Loss function\n",
    "$$\n",
    "L = -\\text{log } p(x_{new};\\theta)\n",
    "$$\n",
    "Gradient of loss function\n",
    "$$\n",
    "\\nabla_\\theta L(\\theta) = -\\frac{1}{p(x_{new};\\theta)} \\cdot \\frac{1}{\\sum_{i=1}^Nw_i(\\theta)}\\Big(\\sum_{i=1}^N\\nabla_\\theta w_i(\\theta) K\\big(\\frac{x_{new}-x_i}{\\sigma}\\big) - \\frac{p(x_{new};\\theta)}{\\sum_{j=1}^Nw_j(\\theta)}\\sum_{i=1}^Nw_i(\\theta) K\\big(\\frac{x_{new}-x_i}{\\sigma}\\big)\\sum_{k=1}^N\\nabla_\\theta w_k(\\theta)\\Big)\n",
    "$$\n",
    "which is a little hairy. Let's break it down below."
   ]
  },
  {
   "cell_type": "markdown",
   "metadata": {},
   "source": [
    "We have defined $$p(x;\\theta)$$ easily. This is just the score of the KDE, so the first term is done.\n",
    "The second term is the sum of the weights, also easy.\n",
    "What is $$\\nabla_\\theta w_i(\\theta)$$? it's just $$\\theta^T \\phi_i$$\n",
    "\n",
    "Kernel evaluation is also easy.\n",
    "N in this case is the number of training data.\n",
    "First of all, what dimension is this? Nabla with respect to theta should be of size theta."
   ]
  },
  {
   "cell_type": "code",
   "execution_count": 8,
   "metadata": {},
   "outputs": [],
   "source": [
    "p_xnew = np.exp(kde.score_samples(np.array(input_data[[\"points\", \"total_rebounds\", \"assists\"]]).reshape(-1, 3)))\n",
    "\n",
    "# nabla_wi is the weight of each point\n",
    "nabla_wi = data[features]  * weights\n",
    "# sum of the weights\n",
    "resampling_weights = (nabla_wi).sum(axis=1)\n",
    "sum_wi = sum(resampling_weights)\n"
   ]
  },
  {
   "cell_type": "code",
   "execution_count": 9,
   "metadata": {},
   "outputs": [],
   "source": [
    "pra = np.array(input_data[[\"points\", \"total_rebounds\", \"assists\"]])"
   ]
  },
  {
   "cell_type": "code",
   "execution_count": 10,
   "metadata": {},
   "outputs": [
    {
     "data": {
      "text/plain": [
       "0.3624501514710004"
      ]
     },
     "execution_count": 10,
     "metadata": {},
     "output_type": "execute_result"
    }
   ],
   "source": [
    "max_pts = data[\"points\"].max()\n",
    "max_rb = data[\"total_rebounds\"].max()\n",
    "max_ast = data[\"assists\"].max()\n",
    "pra_norm = np.divide(pra, np.array([max_pts, max_rb, max_ast]))\n",
    "np.linalg.norm(pra_norm)"
   ]
  },
  {
   "cell_type": "code",
   "execution_count": 11,
   "metadata": {},
   "outputs": [
    {
     "data": {
      "text/plain": [
       "0.6514724157739866"
      ]
     },
     "execution_count": 11,
     "metadata": {},
     "output_type": "execute_result"
    }
   ],
   "source": [
    "def epanechnikov(u):\n",
    "    return 3/4*(1-u**2)\n",
    "\n",
    "epanechnikov(np.linalg.norm(pra_norm))"
   ]
  },
  {
   "cell_type": "code",
   "execution_count": null,
   "metadata": {},
   "outputs": [],
   "source": [
    "# TODO: figure out this part\n",
    "sigma = 1"
   ]
  },
  {
   "cell_type": "code",
   "execution_count": null,
   "metadata": {},
   "outputs": [],
   "source": [
    "z_term = (input_data - arr)/sigma"
   ]
  },
  {
   "cell_type": "markdown",
   "metadata": {},
   "source": [
    "$$\n",
    "\\nabla_\\theta L(\\theta) = -\\frac{1}{p(x_{new};\\theta)} \\cdot \\frac{1}{\\sum_{i=1}^Nw_i(\\theta)}\\Big(\\sum_{i=1}^N\\nabla_\\theta w_i(\\theta) K\\big(\\frac{x_{new}-x_i}{\\sigma}\\big) - \\frac{p(x_{new};\\theta)}{\\sum_{j=1}^Nw_j(\\theta)}\\sum_{i=1}^Nw_i(\\theta) K\\big(\\frac{x_{new}-x_i}{\\sigma}\\big)\\sum_{k=1}^N\\nabla_\\theta w_k(\\theta)\\Big)\n",
    "$$"
   ]
  },
  {
   "cell_type": "code",
   "execution_count": 12,
   "metadata": {},
   "outputs": [
    {
     "data": {
      "text/plain": [
       "same_opponent        -27.650890\n",
       "same_player           -0.966562\n",
       "same_venue_status   -386.516258\n",
       "days_since_game     -331.622134\n",
       "dtype: float64"
      ]
     },
     "execution_count": 12,
     "metadata": {},
     "output_type": "execute_result"
    }
   ],
   "source": [
    "-1/p_xnew * 1/sum_wi * (np.sum(nabla_wi * epanechnikov(np.linalg.norm(z_term))) - p_xnew/sum_wi)"
   ]
  },
  {
   "cell_type": "code",
   "execution_count": 13,
   "metadata": {},
   "outputs": [
    {
     "data": {
      "text/plain": [
       "same_opponent         3061.000000\n",
       "same_player            107.000000\n",
       "same_venue_status    42788.000000\n",
       "days_since_game      36711.128163\n",
       "dtype: float64"
      ]
     },
     "execution_count": 13,
     "metadata": {},
     "output_type": "execute_result"
    }
   ],
   "source": [
    "nabla_wi.sum(axis=0)"
   ]
  },
  {
   "cell_type": "code",
   "execution_count": null,
   "metadata": {},
   "outputs": [],
   "source": []
  }
 ],
 "metadata": {
  "kernelspec": {
   "display_name": "Python 3",
   "language": "python",
   "name": "python3"
  },
  "language_info": {
   "codemirror_mode": {
    "name": "ipython",
    "version": 3
   },
   "file_extension": ".py",
   "mimetype": "text/x-python",
   "name": "python",
   "nbconvert_exporter": "python",
   "pygments_lexer": "ipython3",
   "version": "3.12.2"
  }
 },
 "nbformat": 4,
 "nbformat_minor": 2
}
