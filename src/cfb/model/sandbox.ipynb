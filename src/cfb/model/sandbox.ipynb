{
 "cells": [
  {
   "cell_type": "code",
   "execution_count": 1,
   "metadata": {},
   "outputs": [],
   "source": [
    "from db_utils import retrieve_data\n",
    "import os\n",
    "import pandas as pd\n",
    "from sklearn.linear_model import LinearRegression\n",
    "import pandas as pd\n",
    "from sklearn.preprocessing import OneHotEncoder\n",
    "import sys\n",
    "sys.path.insert(0, '../')\n",
    "from features import build_features\n",
    "from model.train import train_and_pkl\n",
    "path = r\"c:\\Users\\brtnl\\OneDrive\\Desktop\\code\\sports_betting\"\n",
    "os.chdir(path)"
   ]
  },
  {
   "cell_type": "code",
   "execution_count": 2,
   "metadata": {},
   "outputs": [],
   "source": [
    "query = \"\"\"SELECT * FROM cfb.all_games\"\"\"\n",
    "df = retrieve_data(query)"
   ]
  },
  {
   "cell_type": "code",
   "execution_count": 3,
   "metadata": {},
   "outputs": [],
   "source": [
    "df = build_features.add_features(df)"
   ]
  },
  {
   "cell_type": "code",
   "execution_count": 4,
   "metadata": {},
   "outputs": [],
   "source": [
    "target_col = \"home_half\"\n",
    "X = df.loc[:, df.columns != target_col]\n",
    "y = df[target_col]"
   ]
  },
  {
   "cell_type": "code",
   "execution_count": null,
   "metadata": {},
   "outputs": [],
   "source": []
  },
  {
   "cell_type": "code",
   "execution_count": 5,
   "metadata": {},
   "outputs": [
    {
     "name": "stdout",
     "output_type": "stream",
     "text": [
      "[0.01570859 0.01570859 0.01570859 ... 0.01570859 0.01570859 0.01570859]\n",
      "4813    0\n",
      "7576    0\n",
      "5403    0\n",
      "8997    0\n",
      "5813    0\n",
      "       ..\n",
      "6705    0\n",
      "3957    0\n",
      "6144    0\n",
      "6825    0\n",
      "2365    0\n",
      "Name: home_half, Length: 1914, dtype: int64\n",
      "Model Performance (Booster):\n",
      "R2 Score:\n",
      " 0.9282555148729681\n"
     ]
    }
   ],
   "source": [
    "model = train_and_pkl(X, y, \"light_gbm\", \"test\")"
   ]
  },
  {
   "cell_type": "code",
   "execution_count": null,
   "metadata": {},
   "outputs": [],
   "source": []
  }
 ],
 "metadata": {
  "kernelspec": {
   "display_name": "venv",
   "language": "python",
   "name": "python3"
  },
  "language_info": {
   "codemirror_mode": {
    "name": "ipython",
    "version": 3
   },
   "file_extension": ".py",
   "mimetype": "text/x-python",
   "name": "python",
   "nbconvert_exporter": "python",
   "pygments_lexer": "ipython3",
   "version": "3.12.2"
  }
 },
 "nbformat": 4,
 "nbformat_minor": 2
}
