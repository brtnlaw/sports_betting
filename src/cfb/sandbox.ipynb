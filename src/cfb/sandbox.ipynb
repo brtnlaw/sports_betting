{
 "cells": [
  {
   "cell_type": "code",
   "execution_count": 1,
   "metadata": {},
   "outputs": [],
   "source": [
    "import warnings\n",
    "\n",
    "import matplotlib.pyplot as plt\n",
    "import pandas as pd\n",
    "import strategy.betting_logic as betting_logic\n",
    "from data.data_prep import DataPrep\n",
    "from pipelines.preprocessing import preprocess_pipeline\n",
    "from model.train import train_model\n",
    "from sklearn.metrics import mean_absolute_error, mean_squared_error, r2_score\n",
    "from backtest import cross_validate\n",
    "import os\n",
    "\n",
    "from pipelines.pipeline import get_features_and_model_pipeline\n",
    "path = r\"c:\\Users\\brtnl\\OneDrive\\Desktop\\code\\sports_betting\"\n",
    "os.chdir(path)\n",
    "\n",
    "warnings.simplefilter(action=\"ignore\", category=FutureWarning)"
   ]
  },
  {
   "cell_type": "code",
   "execution_count": 2,
   "metadata": {},
   "outputs": [
    {
     "name": "stdout",
     "output_type": "stream",
     "text": [
      "Step 1: Loading data...\n",
      "Step 2: Preprocess and separate odds, X, and y...\n"
     ]
    },
    {
     "name": "stderr",
     "output_type": "stream",
     "text": [
      "C:\\Users\\brtnl\\AppData\\Local\\Temp\\ipykernel_33300\\2007525662.py:11: SettingWithCopyWarning: \n",
      "A value is trying to be set on a copy of a slice from a DataFrame.\n",
      "Try using .loc[row_indexer,col_indexer] = value instead\n",
      "\n",
      "See the caveats in the documentation: https://pandas.pydata.org/pandas-docs/stable/user_guide/indexing.html#returning-a-view-versus-a-copy\n",
      "  odds_df[\"pred\"] = None\n"
     ]
    }
   ],
   "source": [
    "print(\"Step 1: Loading data...\")\n",
    "data_prep = DataPrep(dataset=\"cfb\")\n",
    "raw_data = data_prep.get_data()\n",
    "\n",
    "print(\"Step 2: Preprocess and separate odds, X, and y...\")\n",
    "preprocessed_data = preprocess_pipeline().fit_transform(raw_data)\n",
    "target_col = \"total\"\n",
    "betting_cols = [\"min_ou\", \"max_ou\"]\n",
    "\n",
    "odds_df = preprocessed_data[[target_col] + betting_cols]\n",
    "odds_df[\"pred\"] = None\n",
    "X = preprocessed_data.drop(columns=[target_col])\n",
    "y = preprocessed_data[target_col]"
   ]
  },
  {
   "cell_type": "code",
   "execution_count": 13,
   "metadata": {},
   "outputs": [
    {
     "data": {
      "text/plain": [
       "sklearn.pipeline.Pipeline"
      ]
     },
     "execution_count": 13,
     "metadata": {},
     "output_type": "execute_result"
    }
   ],
   "source": [
    "type(pipeline)"
   ]
  },
  {
   "cell_type": "code",
   "execution_count": 7,
   "metadata": {},
   "outputs": [
    {
     "name": "stdout",
     "output_type": "stream",
     "text": [
      "Step 3: Training and evaluating the model...\n",
      "[LightGBM] [Info] Auto-choosing row-wise multi-threading, the overhead of testing was 0.000995 seconds.\n",
      "You can set `force_row_wise=true` to remove the overhead.\n",
      "And if memory is not enough, you can set `force_col_wise=true`.\n",
      "[LightGBM] [Info] Total Bins 4633\n",
      "[LightGBM] [Info] Number of data points in the train set: 7756, number of used features: 38\n",
      "[LightGBM] [Info] Start training from score 55.495101\n",
      "[LightGBM] [Info] Auto-choosing col-wise multi-threading, the overhead of testing was 0.000699 seconds.\n",
      "You can set `force_col_wise=true` to remove the overhead.\n",
      "[LightGBM] [Info] Total Bins 4697\n",
      "[LightGBM] [Info] Number of data points in the train set: 9310, number of used features: 38\n",
      "[LightGBM] [Info] Start training from score 55.715038\n",
      "[LightGBM] [Info] Auto-choosing col-wise multi-threading, the overhead of testing was 0.000745 seconds.\n",
      "You can set `force_col_wise=true` to remove the overhead.\n",
      "[LightGBM] [Info] Total Bins 4737\n",
      "[LightGBM] [Info] Number of data points in the train set: 10932, number of used features: 38\n",
      "[LightGBM] [Info] Start training from score 55.696670\n",
      "[LightGBM] [Info] Auto-choosing col-wise multi-threading, the overhead of testing was 0.000905 seconds.\n",
      "You can set `force_col_wise=true` to remove the overhead.\n",
      "[LightGBM] [Info] Total Bins 4832\n",
      "[LightGBM] [Info] Number of data points in the train set: 12057, number of used features: 42\n",
      "[LightGBM] [Info] Start training from score 55.543585\n",
      "[LightGBM] [Info] Auto-choosing col-wise multi-threading, the overhead of testing was 0.001180 seconds.\n",
      "You can set `force_col_wise=true` to remove the overhead.\n",
      "[LightGBM] [Info] Total Bins 4940\n",
      "[LightGBM] [Info] Number of data points in the train set: 14497, number of used features: 42\n",
      "[LightGBM] [Info] Start training from score 55.314755\n",
      "[LightGBM] [Info] Auto-choosing col-wise multi-threading, the overhead of testing was 0.001636 seconds.\n",
      "You can set `force_col_wise=true` to remove the overhead.\n",
      "[LightGBM] [Info] Total Bins 4971\n",
      "[LightGBM] [Info] Number of data points in the train set: 18168, number of used features: 43\n",
      "[LightGBM] [Info] Start training from score 54.959875\n",
      "[LightGBM] [Info] Auto-choosing col-wise multi-threading, the overhead of testing was 0.001880 seconds.\n",
      "You can set `force_col_wise=true` to remove the overhead.\n",
      "[LightGBM] [Info] Total Bins 5031\n",
      "[LightGBM] [Info] Number of data points in the train set: 21851, number of used features: 43\n",
      "[LightGBM] [Info] Start training from score 54.693058\n"
     ]
    },
    {
     "name": "stderr",
     "output_type": "stream",
     "text": [
      "c:\\Users\\brtnl\\OneDrive\\Desktop\\code\\sports_betting\\src\\cfb\\strategy\\betting_logic.py:33: SettingWithCopyWarning: \n",
      "A value is trying to be set on a copy of a slice from a DataFrame.\n",
      "Try using .loc[row_indexer,col_indexer] = value instead\n",
      "\n",
      "See the caveats in the documentation: https://pandas.pydata.org/pandas-docs/stable/user_guide/indexing.html#returning-a-view-versus-a-copy\n",
      "  df.loc[condition, \"unit_pnl\"] = value\n"
     ]
    }
   ],
   "source": [
    "# TODO: replace feature importance with a graph\n",
    "print(\"Step 3: Training and evaluating the model...\")\n",
    "pipeline = get_features_and_model_pipeline()\n",
    "model, odds_df = cv2(X, y, pipeline, odds_df, betting_logic.simple_percentage)"
   ]
  },
  {
   "cell_type": "code",
   "execution_count": null,
   "metadata": {},
   "outputs": [
    {
     "data": {
      "text/plain": [
       "Index(['home_classification_fbs', 'home_classification_fcs',\n",
       "       'home_classification_ii', 'home_classification_iii',\n",
       "       'home_classification_None', 'away_classification_fbs',\n",
       "       'away_classification_fcs', 'away_classification_ii',\n",
       "       'away_classification_iii', 'away_classification_None',\n",
       "       'season_type_postseason', 'season_type_regular',\n",
       "       'season_type_spring_postseason', 'season_type_spring_regular',\n",
       "       'attendance', 'home_pregame_elo', 'away_pregame_elo', 'dome', 'grass',\n",
       "       'season', 'week', 'neutral_site', 'conference_game', 'home_points',\n",
       "       'home_postgame_win_probability', 'home_postgame_elo', 'away_points',\n",
       "       'away_postgame_win_probability', 'away_postgame_elo',\n",
       "       'excitement_index', 'capacity', 'elevation', 'constructionyear',\n",
       "       'min_ou', 'max_ou', 'home_days_since_last_game',\n",
       "       'away_days_since_last_game', 'home_rolling_3_mean_points_for',\n",
       "       'away_rolling_3_mean_points_for', 'home_rolling_5_mean_points_for',\n",
       "       'away_rolling_5_mean_points_for', 'home_rolling_3_mean_points_against',\n",
       "       'away_rolling_3_mean_points_against',\n",
       "       'home_rolling_5_mean_points_against',\n",
       "       'away_rolling_5_mean_points_against'],\n",
       "      dtype='object')"
      ]
     },
     "execution_count": 67,
     "metadata": {},
     "output_type": "execute_result"
    }
   ],
   "source": [
    "pipeline[:-1].fit_transform(X, y).columns"
   ]
  },
  {
   "cell_type": "code",
   "execution_count": null,
   "metadata": {},
   "outputs": [],
   "source": [
    "pipeline[:-1].predict()"
   ]
  },
  {
   "cell_type": "code",
   "execution_count": null,
   "metadata": {},
   "outputs": [],
   "source": [
    "from sklearn.model_selection import BaseCrossValidator\n",
    "import numpy as np\n",
    "\n",
    "class RollingTimeSeriesSplit(BaseCrossValidator):\n",
    "    \"\"\"\n",
    "    Custom rolling cross-validator that expands the training set season by season.\n",
    "    \"\"\"\n",
    "\n",
    "    def __init__(self, seasons, init_train_yrs=5):\n",
    "        self.seasons = seasons\n",
    "        self.init_train_yrs = init_train_yrs\n",
    "        self.unique_seasons = sorted(seasons.unique())\n",
    "\n",
    "    def split(self, X, y=None, groups=None):\n",
    "        \"\"\"Yields indices for train-test splits.\"\"\"\n",
    "        for i in range(self.init_train_yrs, len(self.unique_seasons)):\n",
    "            train_seasons = self.unique_seasons[:i]\n",
    "            test_season = self.unique_seasons[i]\n",
    "\n",
    "            train_idx = np.where(self.seasons.isin(train_seasons))[0]\n",
    "            test_idx = np.where(self.seasons == test_season)[0]\n",
    "\n",
    "            yield train_idx, test_idx\n",
    "\n",
    "    def get_n_splits(self, X=None, y=None, groups=None):\n",
    "        \"\"\"Returns the number of splits.\"\"\"\n",
    "        return len(self.unique_seasons) - self.init_train_yrs\n",
    "\n",
    "\n",
    "def cv2(X, y, pipeline, odds_df, betting_fnc=None, init_train_yrs=5, file_name=None):\n",
    "    cv = RollingTimeSeriesSplit(seasons=X[\"season\"], init_train_yrs=init_train_yrs)\n",
    "    for train_idx, test_idx in cv.split(X, y):\n",
    "        # Train-test split\n",
    "        X_train, y_train = X.iloc[train_idx], y.iloc[train_idx]\n",
    "        X_test = X.iloc[test_idx]\n",
    "        pipeline.fit(X_train, y_train)\n",
    "\n",
    "        # Get predictions\n",
    "        preds = pipeline.predict(X_test)\n",
    "        odds_df.iloc[test_idx, odds_df.columns.get_loc(\"pred\")] = preds\n",
    "    odds_df = betting_fnc(odds_df)\n",
    "    return pipeline, odds_df"
   ]
  },
  {
   "cell_type": "code",
   "execution_count": 9,
   "metadata": {},
   "outputs": [
    {
     "data": {
      "text/html": [
       "<div>\n",
       "<style scoped>\n",
       "    .dataframe tbody tr th:only-of-type {\n",
       "        vertical-align: middle;\n",
       "    }\n",
       "\n",
       "    .dataframe tbody tr th {\n",
       "        vertical-align: top;\n",
       "    }\n",
       "\n",
       "    .dataframe thead th {\n",
       "        text-align: right;\n",
       "    }\n",
       "</style>\n",
       "<table border=\"1\" class=\"dataframe\">\n",
       "  <thead>\n",
       "    <tr style=\"text-align: right;\">\n",
       "      <th></th>\n",
       "      <th>total</th>\n",
       "      <th>min_ou</th>\n",
       "      <th>max_ou</th>\n",
       "      <th>pred</th>\n",
       "      <th>unit_pnl</th>\n",
       "    </tr>\n",
       "    <tr>\n",
       "      <th>id</th>\n",
       "      <th></th>\n",
       "      <th></th>\n",
       "      <th></th>\n",
       "      <th></th>\n",
       "      <th></th>\n",
       "    </tr>\n",
       "  </thead>\n",
       "  <tbody>\n",
       "    <tr>\n",
       "      <th>332412309</th>\n",
       "      <td>27.0</td>\n",
       "      <td>NaN</td>\n",
       "      <td>NaN</td>\n",
       "      <td>None</td>\n",
       "      <td>NaN</td>\n",
       "    </tr>\n",
       "    <tr>\n",
       "      <th>332412579</th>\n",
       "      <td>37.0</td>\n",
       "      <td>56.0</td>\n",
       "      <td>56.0</td>\n",
       "      <td>None</td>\n",
       "      <td>NaN</td>\n",
       "    </tr>\n",
       "    <tr>\n",
       "      <th>332410154</th>\n",
       "      <td>38.0</td>\n",
       "      <td>NaN</td>\n",
       "      <td>NaN</td>\n",
       "      <td>None</td>\n",
       "      <td>NaN</td>\n",
       "    </tr>\n",
       "    <tr>\n",
       "      <th>332412710</th>\n",
       "      <td>51.0</td>\n",
       "      <td>NaN</td>\n",
       "      <td>NaN</td>\n",
       "      <td>None</td>\n",
       "      <td>NaN</td>\n",
       "    </tr>\n",
       "    <tr>\n",
       "      <th>332410084</th>\n",
       "      <td>108.0</td>\n",
       "      <td>NaN</td>\n",
       "      <td>NaN</td>\n",
       "      <td>None</td>\n",
       "      <td>NaN</td>\n",
       "    </tr>\n",
       "    <tr>\n",
       "      <th>...</th>\n",
       "      <td>...</td>\n",
       "      <td>...</td>\n",
       "      <td>...</td>\n",
       "      <td>...</td>\n",
       "      <td>...</td>\n",
       "    </tr>\n",
       "    <tr>\n",
       "      <th>401741208</th>\n",
       "      <td>66.0</td>\n",
       "      <td>NaN</td>\n",
       "      <td>NaN</td>\n",
       "      <td>59.858436</td>\n",
       "      <td>NaN</td>\n",
       "    </tr>\n",
       "    <tr>\n",
       "      <th>401680057</th>\n",
       "      <td>67.0</td>\n",
       "      <td>58.5</td>\n",
       "      <td>58.5</td>\n",
       "      <td>59.600513</td>\n",
       "      <td>NaN</td>\n",
       "    </tr>\n",
       "    <tr>\n",
       "      <th>401677189</th>\n",
       "      <td>51.0</td>\n",
       "      <td>45.5</td>\n",
       "      <td>46.0</td>\n",
       "      <td>53.919714</td>\n",
       "      <td>0.87</td>\n",
       "    </tr>\n",
       "    <tr>\n",
       "      <th>401677191</th>\n",
       "      <td>42.0</td>\n",
       "      <td>51.5</td>\n",
       "      <td>51.5</td>\n",
       "      <td>49.328389</td>\n",
       "      <td>NaN</td>\n",
       "    </tr>\n",
       "    <tr>\n",
       "      <th>401677192</th>\n",
       "      <td>57.0</td>\n",
       "      <td>44.5</td>\n",
       "      <td>45.5</td>\n",
       "      <td>44.883062</td>\n",
       "      <td>NaN</td>\n",
       "    </tr>\n",
       "  </tbody>\n",
       "</table>\n",
       "<p>25615 rows × 5 columns</p>\n",
       "</div>"
      ],
      "text/plain": [
       "           total  min_ou  max_ou       pred  unit_pnl\n",
       "id                                                   \n",
       "332412309   27.0     NaN     NaN       None       NaN\n",
       "332412579   37.0    56.0    56.0       None       NaN\n",
       "332410154   38.0     NaN     NaN       None       NaN\n",
       "332412710   51.0     NaN     NaN       None       NaN\n",
       "332410084  108.0     NaN     NaN       None       NaN\n",
       "...          ...     ...     ...        ...       ...\n",
       "401741208   66.0     NaN     NaN  59.858436       NaN\n",
       "401680057   67.0    58.5    58.5  59.600513       NaN\n",
       "401677189   51.0    45.5    46.0  53.919714      0.87\n",
       "401677191   42.0    51.5    51.5  49.328389       NaN\n",
       "401677192   57.0    44.5    45.5  44.883062       NaN\n",
       "\n",
       "[25615 rows x 5 columns]"
      ]
     },
     "execution_count": 9,
     "metadata": {},
     "output_type": "execute_result"
    }
   ],
   "source": [
    "odds_df[odds_df['unit_pnl'].notna()]\n",
    "odds_df"
   ]
  },
  {
   "cell_type": "code",
   "execution_count": null,
   "metadata": {},
   "outputs": [],
   "source": [
    "pipeline."
   ]
  },
  {
   "cell_type": "code",
   "execution_count": 10,
   "metadata": {},
   "outputs": [
    {
     "data": {
      "text/plain": [
       "[<matplotlib.lines.Line2D at 0x1ba18583b30>]"
      ]
     },
     "execution_count": 10,
     "metadata": {},
     "output_type": "execute_result"
    },
    {
     "data": {
      "image/png": "[encoded data removed]",
      "text/plain": [
       "<Figure size 640x480 with 1 Axes>"
      ]
     },
     "metadata": {},
     "output_type": "display_data"
    }
   ],
   "source": [
    "plt.plot(odds_df.reset_index()[\"unit_pnl\"].cumsum())"
   ]
  },
  {
   "cell_type": "code",
   "execution_count": null,
   "metadata": {},
   "outputs": [],
   "source": []
  }
 ],
 "metadata": {
  "kernelspec": {
   "display_name": "venv",
   "language": "python",
   "name": "python3"
  },
  "language_info": {
   "codemirror_mode": {
    "name": "ipython",
    "version": 3
   },
   "file_extension": ".py",
   "mimetype": "text/x-python",
   "name": "python",
   "nbconvert_exporter": "python",
   "pygments_lexer": "ipython3",
   "version": "3.12.2"
  }
 },
 "nbformat": 4,
 "nbformat_minor": 2
}
