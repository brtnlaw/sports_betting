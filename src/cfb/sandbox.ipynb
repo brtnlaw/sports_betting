{
 "cells": [
  {
   "cell_type": "code",
   "execution_count": null,
   "metadata": {},
   "outputs": [],
   "source": [
    "from evaluation import compare_models\n",
    "compare_models(\"no_postgame_prob\", \"model_4_2_25\")"
   ]
  },
  {
   "cell_type": "code",
   "execution_count": null,
   "metadata": {},
   "outputs": [
    {
     "data": {
      "text/html": [
       "<div>\n",
       "<style scoped>\n",
       "    .dataframe tbody tr th:only-of-type {\n",
       "        vertical-align: middle;\n",
       "    }\n",
       "\n",
       "    .dataframe tbody tr th {\n",
       "        vertical-align: top;\n",
       "    }\n",
       "\n",
       "    .dataframe thead th {\n",
       "        text-align: right;\n",
       "    }\n",
       "</style>\n",
       "<table border=\"1\" class=\"dataframe\">\n",
       "  <thead>\n",
       "    <tr style=\"text-align: right;\">\n",
       "      <th></th>\n",
       "      <th>total</th>\n",
       "      <th>min_ou</th>\n",
       "      <th>max_ou</th>\n",
       "      <th>pred</th>\n",
       "      <th>unit_pnl</th>\n",
       "    </tr>\n",
       "    <tr>\n",
       "      <th>id</th>\n",
       "      <th></th>\n",
       "      <th></th>\n",
       "      <th></th>\n",
       "      <th></th>\n",
       "      <th></th>\n",
       "    </tr>\n",
       "  </thead>\n",
       "  <tbody>\n",
       "    <tr>\n",
       "      <th>401013357</th>\n",
       "      <td>78.0</td>\n",
       "      <td>68.0</td>\n",
       "      <td>68.0</td>\n",
       "      <td>53.153422</td>\n",
       "      <td>-1.0</td>\n",
       "    </tr>\n",
       "    <tr>\n",
       "      <th>401014972</th>\n",
       "      <td>59.0</td>\n",
       "      <td>58.5</td>\n",
       "      <td>58.5</td>\n",
       "      <td>52.465247</td>\n",
       "      <td>-1.0</td>\n",
       "    </tr>\n",
       "    <tr>\n",
       "      <th>401022510</th>\n",
       "      <td>77.0</td>\n",
       "      <td>57.5</td>\n",
       "      <td>58.5</td>\n",
       "      <td>45.580452</td>\n",
       "      <td>-1.0</td>\n",
       "    </tr>\n",
       "    <tr>\n",
       "      <th>401019470</th>\n",
       "      <td>73.0</td>\n",
       "      <td>70.0</td>\n",
       "      <td>70.0</td>\n",
       "      <td>49.147276</td>\n",
       "      <td>-1.0</td>\n",
       "    </tr>\n",
       "    <tr>\n",
       "      <th>401014979</th>\n",
       "      <td>52.0</td>\n",
       "      <td>54.5</td>\n",
       "      <td>54.5</td>\n",
       "      <td>62.135646</td>\n",
       "      <td>-1.0</td>\n",
       "    </tr>\n",
       "    <tr>\n",
       "      <th>...</th>\n",
       "      <td>...</td>\n",
       "      <td>...</td>\n",
       "      <td>...</td>\n",
       "      <td>...</td>\n",
       "      <td>...</td>\n",
       "    </tr>\n",
       "    <tr>\n",
       "      <th>401729786</th>\n",
       "      <td>49.0</td>\n",
       "      <td>49.5</td>\n",
       "      <td>49.5</td>\n",
       "      <td>54.903791</td>\n",
       "      <td>-1.0</td>\n",
       "    </tr>\n",
       "    <tr>\n",
       "      <th>401677095</th>\n",
       "      <td>35.0</td>\n",
       "      <td>46.5</td>\n",
       "      <td>47.5</td>\n",
       "      <td>53.476361</td>\n",
       "      <td>-1.0</td>\n",
       "    </tr>\n",
       "    <tr>\n",
       "      <th>401677104</th>\n",
       "      <td>75.0</td>\n",
       "      <td>62.5</td>\n",
       "      <td>62.5</td>\n",
       "      <td>53.389582</td>\n",
       "      <td>-1.0</td>\n",
       "    </tr>\n",
       "    <tr>\n",
       "      <th>401677184</th>\n",
       "      <td>33.0</td>\n",
       "      <td>45.5</td>\n",
       "      <td>46.5</td>\n",
       "      <td>66.338383</td>\n",
       "      <td>-1.0</td>\n",
       "    </tr>\n",
       "    <tr>\n",
       "      <th>401677108</th>\n",
       "      <td>33.0</td>\n",
       "      <td>50.5</td>\n",
       "      <td>50.5</td>\n",
       "      <td>57.000233</td>\n",
       "      <td>-1.0</td>\n",
       "    </tr>\n",
       "  </tbody>\n",
       "</table>\n",
       "<p>1442 rows × 5 columns</p>\n",
       "</div>"
      ],
      "text/plain": [
       "           total  min_ou  max_ou       pred  unit_pnl\n",
       "id                                                   \n",
       "401013357   78.0    68.0    68.0  53.153422      -1.0\n",
       "401014972   59.0    58.5    58.5  52.465247      -1.0\n",
       "401022510   77.0    57.5    58.5  45.580452      -1.0\n",
       "401019470   73.0    70.0    70.0  49.147276      -1.0\n",
       "401014979   52.0    54.5    54.5  62.135646      -1.0\n",
       "...          ...     ...     ...        ...       ...\n",
       "401729786   49.0    49.5    49.5  54.903791      -1.0\n",
       "401677095   35.0    46.5    47.5  53.476361      -1.0\n",
       "401677104   75.0    62.5    62.5  53.389582      -1.0\n",
       "401677184   33.0    45.5    46.5  66.338383      -1.0\n",
       "401677108   33.0    50.5    50.5  57.000233      -1.0\n",
       "\n",
       "[1442 rows x 5 columns]"
      ]
     },
     "execution_count": 18,
     "metadata": {},
     "output_type": "execute_result"
    }
   ],
   "source": [
    "from evaluation import load_pkl_if_exists\n",
    "odds_df = load_pkl_if_exists(\"model_4_2_25\")\n",
    "odds_df[odds_df[\"unit_pnl\"] == -1]"
   ]
  },
  {
   "cell_type": "code",
   "execution_count": null,
   "metadata": {},
   "outputs": [
    {
     "name": "stdout",
     "output_type": "stream",
     "text": [
      "18.13132894474144\n",
      "5.882284714678542\n"
     ]
    }
   ],
   "source": [
    "print(odds_df[\"total\"].std())\n",
    "print(odds_df[\"pred\"].std())"
   ]
  },
  {
   "cell_type": "code",
   "execution_count": null,
   "metadata": {},
   "outputs": [],
   "source": [
    "# Next obvious thing is just get more relevant data. "
   ]
  },
  {
   "cell_type": "code",
   "execution_count": null,
   "metadata": {},
   "outputs": [],
   "source": [
    "import cfbd\n",
    "import os\n",
    "\n",
    "CFBD_API_KEY = os.getenv(\"CFBD_API_KEY\")\n",
    "configuration = cfbd.Configuration(\n",
    "    host = \"https://apinext.collegefootballdata.com\",\n",
    "    access_token=CFBD_API_KEY\n",
    ")"
   ]
  },
  {
   "cell_type": "code",
   "execution_count": 1,
   "metadata": {},
   "outputs": [],
   "source": [
    "import pickle as pkl\n",
    "import pandas as pd\n",
    "from data.pull_game_team_data import CFBGameTeamData\n",
    "\n",
    "pd.set_option('display.max_columns', None)\n",
    "\n",
    "with open(\"data/pkl_files/game_team_2013_1.pkl\", \"rb\") as f:\n",
    "    s = pkl.load(f)"
   ]
  },
  {
   "cell_type": "code",
   "execution_count": 4,
   "metadata": {},
   "outputs": [
    {
     "ename": "ValueError",
     "evalue": "No objects to concatenate",
     "output_type": "error",
     "traceback": [
      "\u001b[1;31m---------------------------------------------------------------------------\u001b[0m",
      "\u001b[1;31mValueError\u001b[0m                                Traceback (most recent call last)",
      "Cell \u001b[1;32mIn[4], line 2\u001b[0m\n\u001b[0;32m      1\u001b[0m cfbgtd \u001b[38;5;241m=\u001b[39m CFBGameTeamData()\n\u001b[1;32m----> 2\u001b[0m \u001b[43mcfbgtd\u001b[49m\u001b[38;5;241;43m.\u001b[39;49m\u001b[43mload_game_team_stats_from_pkl_at_year_week\u001b[49m\u001b[43m(\u001b[49m\u001b[38;5;241;43m2016\u001b[39;49m\u001b[43m,\u001b[49m\u001b[43m \u001b[49m\u001b[38;5;241;43m16\u001b[39;49m\u001b[43m)\u001b[49m\n",
      "File \u001b[1;32mc:\\Users\\brtnl\\OneDrive\\Desktop\\code\\sports_betting\\src\\cfb\\data\\pull_game_team_data.py:109\u001b[0m, in \u001b[0;36mCFBGameTeamData.load_game_team_stats_from_pkl_at_year_week\u001b[1;34m(self, year, week)\u001b[0m\n\u001b[0;32m    106\u001b[0m \u001b[38;5;28;01mwith\u001b[39;00m \u001b[38;5;28mopen\u001b[39m(path, \u001b[38;5;124m\"\u001b[39m\u001b[38;5;124mrb\u001b[39m\u001b[38;5;124m\"\u001b[39m) \u001b[38;5;28;01mas\u001b[39;00m f:\n\u001b[0;32m    107\u001b[0m     game_team_stats_list \u001b[38;5;241m=\u001b[39m pkl\u001b[38;5;241m.\u001b[39mload(f)\n\u001b[1;32m--> 109\u001b[0m year_df \u001b[38;5;241m=\u001b[39m \u001b[43mpd\u001b[49m\u001b[38;5;241;43m.\u001b[39;49m\u001b[43mconcat\u001b[49m\u001b[43m(\u001b[49m\n\u001b[0;32m    110\u001b[0m \u001b[43m    \u001b[49m\u001b[43m[\u001b[49m\u001b[38;5;28;43mself\u001b[39;49m\u001b[38;5;241;43m.\u001b[39;49m\u001b[43m_gts_expand_to_df\u001b[49m\u001b[43m(\u001b[49m\u001b[43mgts\u001b[49m\u001b[43m)\u001b[49m\u001b[43m \u001b[49m\u001b[38;5;28;43;01mfor\u001b[39;49;00m\u001b[43m \u001b[49m\u001b[43mgts\u001b[49m\u001b[43m \u001b[49m\u001b[38;5;129;43;01min\u001b[39;49;00m\u001b[43m \u001b[49m\u001b[43mgame_team_stats_list\u001b[49m\u001b[43m]\u001b[49m\n\u001b[0;32m    111\u001b[0m \u001b[43m\u001b[49m\u001b[43m)\u001b[49m\u001b[38;5;241m.\u001b[39mapplymap(\u001b[38;5;28;01mlambda\u001b[39;00m x: \u001b[38;5;28;01mNone\u001b[39;00m \u001b[38;5;28;01mif\u001b[39;00m pd\u001b[38;5;241m.\u001b[39misna(x) \u001b[38;5;28;01melse\u001b[39;00m x)\n\u001b[0;32m    113\u001b[0m \u001b[38;5;28;01mfor\u001b[39;00m col \u001b[38;5;129;01min\u001b[39;00m [\n\u001b[0;32m    114\u001b[0m     \u001b[38;5;124m\"\u001b[39m\u001b[38;5;124minterceptionTDs\u001b[39m\u001b[38;5;124m\"\u001b[39m,\n\u001b[0;32m    115\u001b[0m     \u001b[38;5;124m\"\u001b[39m\u001b[38;5;124minterceptionYards\u001b[39m\u001b[38;5;124m\"\u001b[39m,\n\u001b[1;32m   (...)\u001b[0m\n\u001b[0;32m    119\u001b[0m     \u001b[38;5;124m\"\u001b[39m\u001b[38;5;124mpuntReturns\u001b[39m\u001b[38;5;124m\"\u001b[39m,\n\u001b[0;32m    120\u001b[0m ]:\n\u001b[0;32m    121\u001b[0m     \u001b[38;5;28;01mif\u001b[39;00m col \u001b[38;5;129;01mnot\u001b[39;00m \u001b[38;5;129;01min\u001b[39;00m year_df\u001b[38;5;241m.\u001b[39mcolumns:\n",
      "File \u001b[1;32mc:\\Users\\brtnl\\OneDrive\\Desktop\\code\\sports_betting\\venv\\Lib\\site-packages\\pandas\\core\\reshape\\concat.py:382\u001b[0m, in \u001b[0;36mconcat\u001b[1;34m(objs, axis, join, ignore_index, keys, levels, names, verify_integrity, sort, copy)\u001b[0m\n\u001b[0;32m    379\u001b[0m \u001b[38;5;28;01melif\u001b[39;00m copy \u001b[38;5;129;01mand\u001b[39;00m using_copy_on_write():\n\u001b[0;32m    380\u001b[0m     copy \u001b[38;5;241m=\u001b[39m \u001b[38;5;28;01mFalse\u001b[39;00m\n\u001b[1;32m--> 382\u001b[0m op \u001b[38;5;241m=\u001b[39m \u001b[43m_Concatenator\u001b[49m\u001b[43m(\u001b[49m\n\u001b[0;32m    383\u001b[0m \u001b[43m    \u001b[49m\u001b[43mobjs\u001b[49m\u001b[43m,\u001b[49m\n\u001b[0;32m    384\u001b[0m \u001b[43m    \u001b[49m\u001b[43maxis\u001b[49m\u001b[38;5;241;43m=\u001b[39;49m\u001b[43maxis\u001b[49m\u001b[43m,\u001b[49m\n\u001b[0;32m    385\u001b[0m \u001b[43m    \u001b[49m\u001b[43mignore_index\u001b[49m\u001b[38;5;241;43m=\u001b[39;49m\u001b[43mignore_index\u001b[49m\u001b[43m,\u001b[49m\n\u001b[0;32m    386\u001b[0m \u001b[43m    \u001b[49m\u001b[43mjoin\u001b[49m\u001b[38;5;241;43m=\u001b[39;49m\u001b[43mjoin\u001b[49m\u001b[43m,\u001b[49m\n\u001b[0;32m    387\u001b[0m \u001b[43m    \u001b[49m\u001b[43mkeys\u001b[49m\u001b[38;5;241;43m=\u001b[39;49m\u001b[43mkeys\u001b[49m\u001b[43m,\u001b[49m\n\u001b[0;32m    388\u001b[0m \u001b[43m    \u001b[49m\u001b[43mlevels\u001b[49m\u001b[38;5;241;43m=\u001b[39;49m\u001b[43mlevels\u001b[49m\u001b[43m,\u001b[49m\n\u001b[0;32m    389\u001b[0m \u001b[43m    \u001b[49m\u001b[43mnames\u001b[49m\u001b[38;5;241;43m=\u001b[39;49m\u001b[43mnames\u001b[49m\u001b[43m,\u001b[49m\n\u001b[0;32m    390\u001b[0m \u001b[43m    \u001b[49m\u001b[43mverify_integrity\u001b[49m\u001b[38;5;241;43m=\u001b[39;49m\u001b[43mverify_integrity\u001b[49m\u001b[43m,\u001b[49m\n\u001b[0;32m    391\u001b[0m \u001b[43m    \u001b[49m\u001b[43mcopy\u001b[49m\u001b[38;5;241;43m=\u001b[39;49m\u001b[43mcopy\u001b[49m\u001b[43m,\u001b[49m\n\u001b[0;32m    392\u001b[0m \u001b[43m    \u001b[49m\u001b[43msort\u001b[49m\u001b[38;5;241;43m=\u001b[39;49m\u001b[43msort\u001b[49m\u001b[43m,\u001b[49m\n\u001b[0;32m    393\u001b[0m \u001b[43m\u001b[49m\u001b[43m)\u001b[49m\n\u001b[0;32m    395\u001b[0m \u001b[38;5;28;01mreturn\u001b[39;00m op\u001b[38;5;241m.\u001b[39mget_result()\n",
      "File \u001b[1;32mc:\\Users\\brtnl\\OneDrive\\Desktop\\code\\sports_betting\\venv\\Lib\\site-packages\\pandas\\core\\reshape\\concat.py:445\u001b[0m, in \u001b[0;36m_Concatenator.__init__\u001b[1;34m(self, objs, axis, join, keys, levels, names, ignore_index, verify_integrity, copy, sort)\u001b[0m\n\u001b[0;32m    442\u001b[0m \u001b[38;5;28mself\u001b[39m\u001b[38;5;241m.\u001b[39mverify_integrity \u001b[38;5;241m=\u001b[39m verify_integrity\n\u001b[0;32m    443\u001b[0m \u001b[38;5;28mself\u001b[39m\u001b[38;5;241m.\u001b[39mcopy \u001b[38;5;241m=\u001b[39m copy\n\u001b[1;32m--> 445\u001b[0m objs, keys \u001b[38;5;241m=\u001b[39m \u001b[38;5;28;43mself\u001b[39;49m\u001b[38;5;241;43m.\u001b[39;49m\u001b[43m_clean_keys_and_objs\u001b[49m\u001b[43m(\u001b[49m\u001b[43mobjs\u001b[49m\u001b[43m,\u001b[49m\u001b[43m \u001b[49m\u001b[43mkeys\u001b[49m\u001b[43m)\u001b[49m\n\u001b[0;32m    447\u001b[0m \u001b[38;5;66;03m# figure out what our result ndim is going to be\u001b[39;00m\n\u001b[0;32m    448\u001b[0m ndims \u001b[38;5;241m=\u001b[39m \u001b[38;5;28mself\u001b[39m\u001b[38;5;241m.\u001b[39m_get_ndims(objs)\n",
      "File \u001b[1;32mc:\\Users\\brtnl\\OneDrive\\Desktop\\code\\sports_betting\\venv\\Lib\\site-packages\\pandas\\core\\reshape\\concat.py:507\u001b[0m, in \u001b[0;36m_Concatenator._clean_keys_and_objs\u001b[1;34m(self, objs, keys)\u001b[0m\n\u001b[0;32m    504\u001b[0m     objs_list \u001b[38;5;241m=\u001b[39m \u001b[38;5;28mlist\u001b[39m(objs)\n\u001b[0;32m    506\u001b[0m \u001b[38;5;28;01mif\u001b[39;00m \u001b[38;5;28mlen\u001b[39m(objs_list) \u001b[38;5;241m==\u001b[39m \u001b[38;5;241m0\u001b[39m:\n\u001b[1;32m--> 507\u001b[0m     \u001b[38;5;28;01mraise\u001b[39;00m \u001b[38;5;167;01mValueError\u001b[39;00m(\u001b[38;5;124m\"\u001b[39m\u001b[38;5;124mNo objects to concatenate\u001b[39m\u001b[38;5;124m\"\u001b[39m)\n\u001b[0;32m    509\u001b[0m \u001b[38;5;28;01mif\u001b[39;00m keys \u001b[38;5;129;01mis\u001b[39;00m \u001b[38;5;28;01mNone\u001b[39;00m:\n\u001b[0;32m    510\u001b[0m     objs_list \u001b[38;5;241m=\u001b[39m \u001b[38;5;28mlist\u001b[39m(com\u001b[38;5;241m.\u001b[39mnot_none(\u001b[38;5;241m*\u001b[39mobjs_list))\n",
      "\u001b[1;31mValueError\u001b[0m: No objects to concatenate"
     ]
    }
   ],
   "source": [
    "cfbgtd = CFBGameTeamData()\n",
    "cfbgtd.load_game_team_stats_from_pkl_at_year_week(2016, 16)"
   ]
  },
  {
   "cell_type": "code",
   "execution_count": null,
   "metadata": {},
   "outputs": [],
   "source": []
  },
  {
   "cell_type": "code",
   "execution_count": null,
   "metadata": {},
   "outputs": [
    {
     "data": {
      "text/html": [
       "<div>\n",
       "<style scoped>\n",
       "    .dataframe tbody tr th:only-of-type {\n",
       "        vertical-align: middle;\n",
       "    }\n",
       "\n",
       "    .dataframe tbody tr th {\n",
       "        vertical-align: top;\n",
       "    }\n",
       "\n",
       "    .dataframe thead th {\n",
       "        text-align: right;\n",
       "    }\n",
       "</style>\n",
       "<table border=\"1\" class=\"dataframe\">\n",
       "  <thead>\n",
       "    <tr style=\"text-align: right;\">\n",
       "      <th>category</th>\n",
       "      <th>teamId</th>\n",
       "      <th>team</th>\n",
       "      <th>completionAttempts</th>\n",
       "      <th>firstDowns</th>\n",
       "      <th>fourthDownEff</th>\n",
       "      <th>fumblesLost</th>\n",
       "      <th>fumblesRecovered</th>\n",
       "      <th>interceptionTDs</th>\n",
       "      <th>interceptionYards</th>\n",
       "      <th>interceptions</th>\n",
       "      <th>...</th>\n",
       "      <th>possessionTime</th>\n",
       "      <th>rushingAttempts</th>\n",
       "      <th>rushingTDs</th>\n",
       "      <th>rushingYards</th>\n",
       "      <th>thirdDownEff</th>\n",
       "      <th>totalPenaltiesYards</th>\n",
       "      <th>totalYards</th>\n",
       "      <th>turnovers</th>\n",
       "      <th>yardsPerPass</th>\n",
       "      <th>yardsPerRushAttempt</th>\n",
       "    </tr>\n",
       "  </thead>\n",
       "  <tbody>\n",
       "    <tr>\n",
       "      <th>0</th>\n",
       "      <td>2393</td>\n",
       "      <td>Middle Tennessee</td>\n",
       "      <td>19-33</td>\n",
       "      <td>21</td>\n",
       "      <td>0-1</td>\n",
       "      <td>0</td>\n",
       "      <td>2</td>\n",
       "      <td>NaN</td>\n",
       "      <td>NaN</td>\n",
       "      <td>2</td>\n",
       "      <td>...</td>\n",
       "      <td>23:04</td>\n",
       "      <td>27</td>\n",
       "      <td>0</td>\n",
       "      <td>91</td>\n",
       "      <td>2-8</td>\n",
       "      <td>6-74</td>\n",
       "      <td>309</td>\n",
       "      <td>2</td>\n",
       "      <td>6.6</td>\n",
       "      <td>3.4</td>\n",
       "    </tr>\n",
       "    <tr>\n",
       "      <th>1</th>\n",
       "      <td>2426</td>\n",
       "      <td>Navy</td>\n",
       "      <td>3-7</td>\n",
       "      <td>26</td>\n",
       "      <td>2-2</td>\n",
       "      <td>2</td>\n",
       "      <td>0</td>\n",
       "      <td>0</td>\n",
       "      <td>41</td>\n",
       "      <td>0</td>\n",
       "      <td>...</td>\n",
       "      <td>36:56</td>\n",
       "      <td>67</td>\n",
       "      <td>3</td>\n",
       "      <td>366</td>\n",
       "      <td>8-14</td>\n",
       "      <td>2-18</td>\n",
       "      <td>385</td>\n",
       "      <td>2</td>\n",
       "      <td>2.7</td>\n",
       "      <td>5.5</td>\n",
       "    </tr>\n",
       "  </tbody>\n",
       "</table>\n",
       "<p>2 rows × 27 columns</p>\n",
       "</div>"
      ],
      "text/plain": [
       "category  teamId              team completionAttempts firstDowns  \\\n",
       "0           2393  Middle Tennessee              19-33         21   \n",
       "1           2426              Navy                3-7         26   \n",
       "\n",
       "category fourthDownEff fumblesLost fumblesRecovered interceptionTDs  \\\n",
       "0                  0-1           0                2             NaN   \n",
       "1                  2-2           2                0               0   \n",
       "\n",
       "category interceptionYards interceptions  ... possessionTime rushingAttempts  \\\n",
       "0                      NaN             2  ...          23:04              27   \n",
       "1                       41             0  ...          36:56              67   \n",
       "\n",
       "category rushingTDs rushingYards thirdDownEff totalPenaltiesYards totalYards  \\\n",
       "0                 0           91          2-8                6-74        309   \n",
       "1                 3          366         8-14                2-18        385   \n",
       "\n",
       "category turnovers yardsPerPass yardsPerRushAttempt  \n",
       "0                2          6.6                 3.4  \n",
       "1                2          2.7                 5.5  \n",
       "\n",
       "[2 rows x 27 columns]"
      ]
     },
     "execution_count": 4,
     "metadata": {},
     "output_type": "execute_result"
    }
   ],
   "source": [
    "cfbgtd._gts_expand_to_df(s[0])"
   ]
  },
  {
   "cell_type": "code",
   "execution_count": null,
   "metadata": {},
   "outputs": [],
   "source": [
    "gts = s[0]"
   ]
  },
  {
   "cell_type": "code",
   "execution_count": null,
   "metadata": {},
   "outputs": [],
   "source": [
    "teams_df = pd.json_normalize(gts.to_dict(), record_path=[\"teams\"], meta=\"id\")\n",
    "teams_df = teams_df.explode(\"stats\").reset_index(drop=True)\n",
    "stats_df = pd.json_normalize(teams_df[\"stats\"], meta=\"id\")\n",
    "final_df = pd.concat([teams_df.drop(columns=\"stats\"), stats_df], axis=1)\n",
    "flat_df = final_df.pivot(\n",
    "    index=[\"id\", \"teamId\", \"team\"], columns=\"category\", values=\"stat\"\n",
    ").reset_index()"
   ]
  },
  {
   "cell_type": "code",
   "execution_count": null,
   "metadata": {},
   "outputs": [],
   "source": [
    "from data.data_prep import DataPrep"
   ]
  },
  {
   "cell_type": "code",
   "execution_count": null,
   "metadata": {},
   "outputs": [],
   "source": [
    "dp = DataPrep()"
   ]
  },
  {
   "cell_type": "code",
   "execution_count": null,
   "metadata": {},
   "outputs": [],
   "source": [
    "dp.load_and_patch_errors()"
   ]
  },
  {
   "cell_type": "code",
   "execution_count": null,
   "metadata": {},
   "outputs": [],
   "source": []
  }
 ],
 "metadata": {
  "kernelspec": {
   "display_name": "venv",
   "language": "python",
   "name": "python3"
  },
  "language_info": {
   "codemirror_mode": {
    "name": "ipython",
    "version": 3
   },
   "file_extension": ".py",
   "mimetype": "text/x-python",
   "name": "python",
   "nbconvert_exporter": "python",
   "pygments_lexer": "ipython3",
   "version": "3.12.2"
  }
 },
 "nbformat": 4,
 "nbformat_minor": 2
}
