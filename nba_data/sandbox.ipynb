{
 "cells": [
  {
   "cell_type": "code",
   "execution_count": 1,
   "metadata": {},
   "outputs": [],
   "source": [
    "from urllib.request import urlopen\n",
    "from bs4 import BeautifulSoup\n",
    "import pandas as pd\n",
    "import re\n",
    "from typing import List\n",
    "from io import StringIO\n",
    "import datetime as dt\n",
    "import datetime as dt\n",
    "import pandas as pd\n",
    "import psycopg2\n",
    "import pytz\n",
    "import re\n",
    "import sys\n",
    "import warnings\n",
    "from bball_utils import TEAM_CODE_DICT, generate_unique_game_id, generate_unique_player_id\n",
    "from bs4 import BeautifulSoup\n",
    "from io import StringIO\n",
    "from psycopg2.extras import execute_values\n",
    "from psycopg2.extensions import AsIs\n",
    "from typing import List\n",
    "from urllib.request import urlopen\n",
    "import psycopg2"
   ]
  },
  {
   "cell_type": "code",
   "execution_count": 20,
   "metadata": {},
   "outputs": [
    {
     "name": "stderr",
     "output_type": "stream",
     "text": [
      "C:\\Users\\14086\\AppData\\Local\\Temp\\ipykernel_20852\\2951955221.py:15: UserWarning: pandas only supports SQLAlchemy connectable (engine/connection) or database string URI or sqlite3 DBAPI2 connection. Other DBAPI2 objects are not tested. Please consider using SQLAlchemy.\n",
      "  data = pd.read_sql_query(query, conn)\n"
     ]
    }
   ],
   "source": [
    "# Connect to postgres db\n",
    "try:\n",
    "    conn = psycopg2.connect(\n",
    "        dbname='sports_data',\n",
    "        user='postgres',\n",
    "        password='postgres',\n",
    "        host='localhost',\n",
    "        port='5432'\n",
    "    )\n",
    "except:\n",
    "    print(\"Failure to connect to database.\")\n",
    "\n",
    "query = 'SELECT * FROM basketball.all_games'\n",
    "\n",
    "data = pd.read_sql_query(query, conn)\n",
    "\n",
    "# Close the cursor and connection\n",
    "conn.close()"
   ]
  },
  {
   "cell_type": "code",
   "execution_count": 22,
   "metadata": {},
   "outputs": [
    {
     "data": {
      "text/html": [
       "<div>\n",
       "<style scoped>\n",
       "    .dataframe tbody tr th:only-of-type {\n",
       "        vertical-align: middle;\n",
       "    }\n",
       "\n",
       "    .dataframe tbody tr th {\n",
       "        vertical-align: top;\n",
       "    }\n",
       "\n",
       "    .dataframe thead th {\n",
       "        text-align: right;\n",
       "    }\n",
       "</style>\n",
       "<table border=\"1\" class=\"dataframe\">\n",
       "  <thead>\n",
       "    <tr style=\"text-align: right;\">\n",
       "      <th></th>\n",
       "      <th>date</th>\n",
       "      <th>start_time</th>\n",
       "      <th>visitor</th>\n",
       "      <th>visitor_points</th>\n",
       "      <th>home</th>\n",
       "      <th>home_points</th>\n",
       "      <th>ot</th>\n",
       "      <th>attendance</th>\n",
       "      <th>unique_id</th>\n",
       "      <th>created_at</th>\n",
       "    </tr>\n",
       "  </thead>\n",
       "  <tbody>\n",
       "    <tr>\n",
       "      <th>0</th>\n",
       "      <td>2020-12-22</td>\n",
       "      <td>19:00:00</td>\n",
       "      <td>GSW</td>\n",
       "      <td>99</td>\n",
       "      <td>BRK</td>\n",
       "      <td>125</td>\n",
       "      <td>None</td>\n",
       "      <td>0.0</td>\n",
       "      <td>be073d8f99f87fc70b0c40d6b6d210d0</td>\n",
       "      <td>2024-03-24 19:57:05.676734</td>\n",
       "    </tr>\n",
       "    <tr>\n",
       "      <th>1</th>\n",
       "      <td>2020-12-22</td>\n",
       "      <td>22:00:00</td>\n",
       "      <td>LAC</td>\n",
       "      <td>116</td>\n",
       "      <td>LAL</td>\n",
       "      <td>109</td>\n",
       "      <td>None</td>\n",
       "      <td>0.0</td>\n",
       "      <td>c39c31f404ba02171ffcc5d1c37c25a2</td>\n",
       "      <td>2024-03-24 19:57:05.676734</td>\n",
       "    </tr>\n",
       "    <tr>\n",
       "      <th>2</th>\n",
       "      <td>2020-12-23</td>\n",
       "      <td>19:00:00</td>\n",
       "      <td>CHA</td>\n",
       "      <td>114</td>\n",
       "      <td>CLE</td>\n",
       "      <td>121</td>\n",
       "      <td>None</td>\n",
       "      <td>300.0</td>\n",
       "      <td>828fe5de1600c4869830bd2a002a6a48</td>\n",
       "      <td>2024-03-24 19:57:05.676734</td>\n",
       "    </tr>\n",
       "    <tr>\n",
       "      <th>3</th>\n",
       "      <td>2020-12-23</td>\n",
       "      <td>19:00:00</td>\n",
       "      <td>NYK</td>\n",
       "      <td>107</td>\n",
       "      <td>IND</td>\n",
       "      <td>121</td>\n",
       "      <td>None</td>\n",
       "      <td>0.0</td>\n",
       "      <td>4113cb78418c6c9357c9ca2404fc6545</td>\n",
       "      <td>2024-03-24 19:57:05.676734</td>\n",
       "    </tr>\n",
       "    <tr>\n",
       "      <th>4</th>\n",
       "      <td>2020-12-23</td>\n",
       "      <td>19:00:00</td>\n",
       "      <td>MIA</td>\n",
       "      <td>107</td>\n",
       "      <td>ORL</td>\n",
       "      <td>113</td>\n",
       "      <td>None</td>\n",
       "      <td>3396.0</td>\n",
       "      <td>f06a34abe2510ae3c1cd5d560e4f2cee</td>\n",
       "      <td>2024-03-24 19:57:05.676734</td>\n",
       "    </tr>\n",
       "    <tr>\n",
       "      <th>...</th>\n",
       "      <td>...</td>\n",
       "      <td>...</td>\n",
       "      <td>...</td>\n",
       "      <td>...</td>\n",
       "      <td>...</td>\n",
       "      <td>...</td>\n",
       "      <td>...</td>\n",
       "      <td>...</td>\n",
       "      <td>...</td>\n",
       "      <td>...</td>\n",
       "    </tr>\n",
       "    <tr>\n",
       "      <th>2481</th>\n",
       "      <td>2022-06-05</td>\n",
       "      <td>20:00:00</td>\n",
       "      <td>BOS</td>\n",
       "      <td>88</td>\n",
       "      <td>GSW</td>\n",
       "      <td>107</td>\n",
       "      <td>None</td>\n",
       "      <td>18064.0</td>\n",
       "      <td>863d2098081729d8c49eec80766208f8</td>\n",
       "      <td>2024-03-24 19:58:08.391675</td>\n",
       "    </tr>\n",
       "    <tr>\n",
       "      <th>2482</th>\n",
       "      <td>2022-06-08</td>\n",
       "      <td>21:00:00</td>\n",
       "      <td>GSW</td>\n",
       "      <td>100</td>\n",
       "      <td>BOS</td>\n",
       "      <td>116</td>\n",
       "      <td>None</td>\n",
       "      <td>19156.0</td>\n",
       "      <td>5cbd3ce5103bcd8056ab40f8b4fb0424</td>\n",
       "      <td>2024-03-24 19:58:08.391675</td>\n",
       "    </tr>\n",
       "    <tr>\n",
       "      <th>2483</th>\n",
       "      <td>2022-06-10</td>\n",
       "      <td>21:00:00</td>\n",
       "      <td>GSW</td>\n",
       "      <td>107</td>\n",
       "      <td>BOS</td>\n",
       "      <td>97</td>\n",
       "      <td>None</td>\n",
       "      <td>19156.0</td>\n",
       "      <td>f2bbe8b9c39ded9464492619796e1b8a</td>\n",
       "      <td>2024-03-24 19:58:08.391675</td>\n",
       "    </tr>\n",
       "    <tr>\n",
       "      <th>2484</th>\n",
       "      <td>2022-06-13</td>\n",
       "      <td>21:00:00</td>\n",
       "      <td>BOS</td>\n",
       "      <td>94</td>\n",
       "      <td>GSW</td>\n",
       "      <td>104</td>\n",
       "      <td>None</td>\n",
       "      <td>18064.0</td>\n",
       "      <td>c949a22a98057682e7ce20b3348c8f4b</td>\n",
       "      <td>2024-03-24 19:58:08.391675</td>\n",
       "    </tr>\n",
       "    <tr>\n",
       "      <th>2485</th>\n",
       "      <td>2022-06-16</td>\n",
       "      <td>21:00:00</td>\n",
       "      <td>GSW</td>\n",
       "      <td>103</td>\n",
       "      <td>BOS</td>\n",
       "      <td>90</td>\n",
       "      <td>None</td>\n",
       "      <td>19156.0</td>\n",
       "      <td>e3228fe23ac58308aa90975cbfc32857</td>\n",
       "      <td>2024-03-24 19:58:08.391675</td>\n",
       "    </tr>\n",
       "  </tbody>\n",
       "</table>\n",
       "<p>2486 rows × 10 columns</p>\n",
       "</div>"
      ],
      "text/plain": [
       "            date start_time visitor  visitor_points home  home_points    ot  \\\n",
       "0     2020-12-22   19:00:00     GSW              99  BRK          125  None   \n",
       "1     2020-12-22   22:00:00     LAC             116  LAL          109  None   \n",
       "2     2020-12-23   19:00:00     CHA             114  CLE          121  None   \n",
       "3     2020-12-23   19:00:00     NYK             107  IND          121  None   \n",
       "4     2020-12-23   19:00:00     MIA             107  ORL          113  None   \n",
       "...          ...        ...     ...             ...  ...          ...   ...   \n",
       "2481  2022-06-05   20:00:00     BOS              88  GSW          107  None   \n",
       "2482  2022-06-08   21:00:00     GSW             100  BOS          116  None   \n",
       "2483  2022-06-10   21:00:00     GSW             107  BOS           97  None   \n",
       "2484  2022-06-13   21:00:00     BOS              94  GSW          104  None   \n",
       "2485  2022-06-16   21:00:00     GSW             103  BOS           90  None   \n",
       "\n",
       "      attendance                         unique_id                 created_at  \n",
       "0            0.0  be073d8f99f87fc70b0c40d6b6d210d0 2024-03-24 19:57:05.676734  \n",
       "1            0.0  c39c31f404ba02171ffcc5d1c37c25a2 2024-03-24 19:57:05.676734  \n",
       "2          300.0  828fe5de1600c4869830bd2a002a6a48 2024-03-24 19:57:05.676734  \n",
       "3            0.0  4113cb78418c6c9357c9ca2404fc6545 2024-03-24 19:57:05.676734  \n",
       "4         3396.0  f06a34abe2510ae3c1cd5d560e4f2cee 2024-03-24 19:57:05.676734  \n",
       "...          ...                               ...                        ...  \n",
       "2481     18064.0  863d2098081729d8c49eec80766208f8 2024-03-24 19:58:08.391675  \n",
       "2482     19156.0  5cbd3ce5103bcd8056ab40f8b4fb0424 2024-03-24 19:58:08.391675  \n",
       "2483     19156.0  f2bbe8b9c39ded9464492619796e1b8a 2024-03-24 19:58:08.391675  \n",
       "2484     18064.0  c949a22a98057682e7ce20b3348c8f4b 2024-03-24 19:58:08.391675  \n",
       "2485     19156.0  e3228fe23ac58308aa90975cbfc32857 2024-03-24 19:58:08.391675  \n",
       "\n",
       "[2486 rows x 10 columns]"
      ]
     },
     "execution_count": 22,
     "metadata": {},
     "output_type": "execute_result"
    }
   ],
   "source": [
    "data"
   ]
  },
  {
   "cell_type": "code",
   "execution_count": 3,
   "metadata": {},
   "outputs": [],
   "source": [
    "# https://www.basketball-reference.com/leagues/NBA_2023_totals.html\n",
    "# https://www.basketball-reference.com/leagues/NBA_%(year)s_games.html\n",
    "# Nexet steps: do the same basically for each game (with location, result, etc.), will need unique ID probs\n",
    "# then for each game, each row will be a player (have a player id and a game id attached)"
   ]
  },
  {
   "cell_type": "code",
   "execution_count": 4,
   "metadata": {},
   "outputs": [
    {
     "data": {
      "text/html": [
       "<div>\n",
       "<style scoped>\n",
       "    .dataframe tbody tr th:only-of-type {\n",
       "        vertical-align: middle;\n",
       "    }\n",
       "\n",
       "    .dataframe tbody tr th {\n",
       "        vertical-align: top;\n",
       "    }\n",
       "\n",
       "    .dataframe thead th {\n",
       "        text-align: right;\n",
       "    }\n",
       "</style>\n",
       "<table border=\"1\" class=\"dataframe\">\n",
       "  <thead>\n",
       "    <tr style=\"text-align: right;\">\n",
       "      <th></th>\n",
       "      <th>date</th>\n",
       "      <th>start_time</th>\n",
       "      <th>visitor</th>\n",
       "      <th>visitor_points</th>\n",
       "      <th>home</th>\n",
       "      <th>home_points</th>\n",
       "      <th>ot</th>\n",
       "      <th>attendance</th>\n",
       "      <th>unique_id</th>\n",
       "      <th>created_at</th>\n",
       "    </tr>\n",
       "  </thead>\n",
       "  <tbody>\n",
       "    <tr>\n",
       "      <th>0</th>\n",
       "      <td>2020-12-22</td>\n",
       "      <td>19:00:00</td>\n",
       "      <td>GSW</td>\n",
       "      <td>99</td>\n",
       "      <td>BRK</td>\n",
       "      <td>125</td>\n",
       "      <td>None</td>\n",
       "      <td>0</td>\n",
       "      <td>be073d8f99f87fc70b0c40d6b6d210d0</td>\n",
       "      <td>2024-03-24 19:57:05.676734</td>\n",
       "    </tr>\n",
       "  </tbody>\n",
       "</table>\n",
       "</div>"
      ],
      "text/plain": [
       "         date start_time visitor  visitor_points home  home_points    ot  \\\n",
       "0  2020-12-22   19:00:00     GSW              99  BRK          125  None   \n",
       "\n",
       "   attendance                         unique_id                 created_at  \n",
       "0           0  be073d8f99f87fc70b0c40d6b6d210d0 2024-03-24 19:57:05.676734  "
      ]
     },
     "execution_count": 4,
     "metadata": {},
     "output_type": "execute_result"
    }
   ],
   "source": [
    "dat"
   ]
  },
  {
   "cell_type": "code",
   "execution_count": 5,
   "metadata": {},
   "outputs": [],
   "source": [
    "temp = dat.iloc[0]\n",
    "date = temp.date\n",
    "site = temp.home"
   ]
  },
  {
   "cell_type": "code",
   "execution_count": 10,
   "metadata": {},
   "outputs": [],
   "source": [
    "def clean_stat_sheet_table(stat_sheet_table: pd.DataFrame) -> pd.DataFrame:\n",
    "    '''\n",
    "    Clean the stat table thats concatenated. \n",
    "\n",
    "    Args:\n",
    "        stat_sheet_table (pd.DataFrame): The raw stat table.\n",
    "\n",
    "    Returns:\n",
    "        pd.DataFrame: Cleaned table.\n",
    "    '''\n",
    "    # Remove header rows\n",
    "    stat_sheet_table = stat_sheet_table[~stat_sheet_table['Starters'].isin(['Reserves', 'Team Totals'])]\n",
    "    \n",
    "    # Ignore stats of DNP players\n",
    "    stat_sheet_table = stat_sheet_table[stat_sheet_table['MP'] != 'Did Not Play']\n",
    "\n",
    "    # Create a timedelta object representing the duration\n",
    "    # Function to convert time string to timedelta\n",
    "    def parse_time(time_str):\n",
    "        minutes, seconds = map(int, time_str.split(':'))\n",
    "        return dt.timedelta(minutes=minutes, seconds=seconds)\n",
    "    stat_sheet_table['MP'] = stat_sheet_table['MP'].apply(parse_time)\n",
    "\n",
    "    # Rename for unique ID\n",
    "    stat_sheet_table = stat_sheet_table.rename(columns={'Starters': 'Player'})\n",
    "    stat_sheet_table = stat_sheet_table.fillna(0)\n",
    "    return stat_sheet_table\n",
    "\n",
    "def get_stat_sheet_table(date: dt.date, site: str) -> pd.DataFrame:\n",
    "    '''\n",
    "    Get the whole stat_sheet_table of a given game, queried by date and home\n",
    "\n",
    "    Args:\n",
    "        date (dt.date): Desired date of game.\n",
    "        site (str): Home team of game, in three letter code.\n",
    "\n",
    "    Returns:\n",
    "        pd.DataFrame: Gets the entire stat sheet for a given game.\n",
    "    '''\n",
    "    url = f'https://www.basketball-reference.com/boxscores/%(date)s0%(site)s.html' % {'date': date.strftime('%Y%m%d'), 'site': site}\n",
    "    try:\n",
    "        html = urlopen(url)\n",
    "    except Exception as e:\n",
    "        print(e)\n",
    "    soup = BeautifulSoup(html, features='html.parser')\n",
    "\n",
    "    tables = soup.find_all('table', {'id': re.compile('box-.*-game-basic')})\n",
    "\n",
    "    # Extract three-letter codes from table IDs\n",
    "    team_codes = [re.search(r'box-(\\w+)-game-basic', table['id']).group(1) for table in tables]\n",
    "\n",
    "    # Convert the tables into a string and wrap it with StringIO\n",
    "    html_string = \"\\n\".join(str(table) for table in tables)\n",
    "    html_io = StringIO(html_string)\n",
    "    stat_sheet_tables = pd.read_html(html_io)\n",
    "\n",
    "    # Add Team, Opponent, Visitor, and Home teams\n",
    "    for i in range(2):\n",
    "        stat_sheet_tables[i] = stat_sheet_tables[i].droplevel(level=0, axis=1)\n",
    "        stat_sheet_tables[i]['Team'] = team_codes[i]\n",
    "        stat_sheet_tables[i]['Opponent'] = team_codes[1-i]\n",
    "        stat_sheet_tables[i]['Visitor'] = team_codes[0]\n",
    "        stat_sheet_tables[i]['Home'] = team_codes[1]\n",
    "        stat_sheet_tables[i]['Date'] = date\n",
    "\n",
    "    # Put it together into one table\n",
    "    stat_sheet_table = pd.concat(stat_sheet_tables)\n",
    "    stat_sheet_table = clean_stat_sheet_table(stat_sheet_table)\n",
    "\n",
    "    # Get unique ID columns\n",
    "    stat_sheet_table['Player_ID'] = stat_sheet_table.apply(generate_unique_player_id, axis=1)\n",
    "    stat_sheet_table['Game_ID'] = stat_sheet_table.apply(generate_unique_game_id, axis=1)\n",
    "    return stat_sheet_table"
   ]
  },
  {
   "cell_type": "code",
   "execution_count": null,
   "metadata": {},
   "outputs": [],
   "source": [
    "# insert or update on table \"stat_sheet\" violates foreign key constraint \"stat_sheet_game_id_fkey\"\n",
    "# DETAIL:  Key (game_id)=(d80c0d5974fca9ad1033e7e45def61e6) is not present in table \"all_games\"."
   ]
  },
  {
   "cell_type": "code",
   "execution_count": 12,
   "metadata": {},
   "outputs": [
    {
     "data": {
      "text/plain": [
       "Player                         Andrew Wiggins\n",
       "MP                            0 days 00:31:14\n",
       "FG                                          4\n",
       "FGA                                        16\n",
       "FG%                                      .250\n",
       "3P                                          2\n",
       "3PA                                         6\n",
       "3P%                                      .333\n",
       "FT                                          3\n",
       "FTA                                         4\n",
       "FT%                                      .750\n",
       "ORB                                         0\n",
       "DRB                                         2\n",
       "TRB                                         2\n",
       "AST                                         1\n",
       "STL                                         0\n",
       "BLK                                         1\n",
       "TOV                                         4\n",
       "PF                                          4\n",
       "PTS                                        13\n",
       "+/-                                       -28\n",
       "Team                                      GSW\n",
       "Opponent                                  BRK\n",
       "Visitor                                   GSW\n",
       "Home                                      BRK\n",
       "Date                               2020-12-22\n",
       "Player_ID    b6916ce227add313385481816de293f0\n",
       "Game_ID      be073d8f99f87fc70b0c40d6b6d210d0\n",
       "Name: 0, dtype: object"
      ]
     },
     "execution_count": 12,
     "metadata": {},
     "output_type": "execute_result"
    }
   ],
   "source": [
    "get_stat_sheet_table(date, site).iloc[0]"
   ]
  },
  {
   "cell_type": "code",
   "execution_count": 230,
   "metadata": {},
   "outputs": [
    {
     "data": {
      "text/plain": [
       "date                                    2021-10-19\n",
       "start_time                                19:30:00\n",
       "visitor                                        BKN\n",
       "visitor_points                                 104\n",
       "home                                           MIL\n",
       "home_points                                    127\n",
       "ot                                            None\n",
       "attendance                                   17341\n",
       "unique_id         f6cf8a724f286683188247905be4e80c\n",
       "created_at              2024-03-24 09:12:44.770992\n",
       "Name: 0, dtype: object"
      ]
     },
     "execution_count": 230,
     "metadata": {},
     "output_type": "execute_result"
    }
   ],
   "source": [
    "temp"
   ]
  },
  {
   "cell_type": "code",
   "execution_count": 17,
   "metadata": {},
   "outputs": [],
   "source": [
    "def insert_stat_sheet_table(date: dt.date, site: str) -> None:\n",
    "    query = '''\n",
    "        INSERT INTO basketball.stat_sheet(\n",
    "            player, minutes_played, field_goals, field_goals_attempted, field_goal_percentage, three_pointers, three_pointers_attempted, three_pointer_percentage, \n",
    "            free_throws, free_throws_attempted, free_throw_percentage, offensive_rebounds, defensive_rebounds, total_rebounds, assists, steals, blocks, turnovers, \n",
    "            personal_fouls, points, plus_minus, team, opponent, visitor, home, date, player_id, game_id\n",
    "            )\n",
    "        VALUES %s\n",
    "        ON CONFLICT DO NOTHING\n",
    "    '''\n",
    "\n",
    "        # Connect to postgres db\n",
    "    try:\n",
    "        conn = psycopg2.connect(\n",
    "            dbname='sports_data',\n",
    "            user='postgres',\n",
    "            password='postgres',\n",
    "            host='localhost',\n",
    "            port='5432'\n",
    "        )\n",
    "    except:\n",
    "        print('Failure to connect to database.')\n",
    "\n",
    "    stat_sheet_table = get_stat_sheet_table(date, site)\n",
    "\n",
    "    row_tuples = [tuple(row) for row in stat_sheet_table.values]\n",
    "    with conn.cursor() as cursor:\n",
    "        try:\n",
    "            execute_values(cursor, query, row_tuples)\n",
    "            print('Successfully executed %(date)s, %(site)s game stat_sheet data' % {'date': date.strftime('%Y-%m-%d'), 'site': site})\n",
    "        except Exception as e:\n",
    "            print(e)\n",
    "\n",
    "    # Commit and close connection\n",
    "    conn.commit()\n",
    "    conn.close()\n",
    "    "
   ]
  },
  {
   "cell_type": "code",
   "execution_count": 18,
   "metadata": {},
   "outputs": [
    {
     "name": "stdout",
     "output_type": "stream",
     "text": [
      "Successfully executed 2020-12-22, BRK game stat_sheet data\n"
     ]
    }
   ],
   "source": [
    "insert_stat_sheet_table(date, site)"
   ]
  },
  {
   "cell_type": "code",
   "execution_count": 19,
   "metadata": {},
   "outputs": [
    {
     "data": {
      "text/plain": [
       "date                                    2020-12-22\n",
       "start_time                                19:00:00\n",
       "visitor                                        GSW\n",
       "visitor_points                                  99\n",
       "home                                           BRK\n",
       "home_points                                    125\n",
       "ot                                            None\n",
       "attendance                                       0\n",
       "unique_id         be073d8f99f87fc70b0c40d6b6d210d0\n",
       "created_at              2024-03-24 19:57:05.676734\n",
       "Name: 0, dtype: object"
      ]
     },
     "execution_count": 19,
     "metadata": {},
     "output_type": "execute_result"
    }
   ],
   "source": [
    "temp"
   ]
  },
  {
   "cell_type": "code",
   "execution_count": 217,
   "metadata": {},
   "outputs": [
    {
     "data": {
      "text/plain": [
       "'f6cf8a724f286683188247905be4e80c'"
      ]
     },
     "execution_count": 217,
     "metadata": {},
     "output_type": "execute_result"
    }
   ],
   "source": [
    "data = {\n",
    "    'Date': dt.date(2021, 10, 19),\n",
    "    'Visitor': 'BKN',\n",
    "    'Home': 'MIL'\n",
    "}\n",
    "generate_unique_game_id(pd.Series(data))"
   ]
  },
  {
   "cell_type": "code",
   "execution_count": 201,
   "metadata": {},
   "outputs": [
    {
     "data": {
      "text/plain": [
       "'f6cf8a724f286683188247905be4e80c'"
      ]
     },
     "execution_count": 201,
     "metadata": {},
     "output_type": "execute_result"
    }
   ],
   "source": [
    "generate_unique_game_id(temp.rename(index={'date': 'Date', 'visitor': 'Visitor', 'home': 'Home'}))"
   ]
  },
  {
   "cell_type": "code",
   "execution_count": 182,
   "metadata": {},
   "outputs": [
    {
     "name": "stdout",
     "output_type": "stream",
     "text": [
      "Index(['Player', 'MP', 'FG', 'FGA', 'FG%', '3P', '3PA', '3P%', 'FT', 'FTA',\n",
      "       'FT%', 'ORB', 'DRB', 'TRB', 'AST', 'STL', 'BLK', 'TOV', 'PF', 'PTS',\n",
      "       '+/-', 'Team', 'Opponent', 'Visitor', 'Home', 'Date'],\n",
      "      dtype='object')\n",
      "INSERT has more expressions than target columns\n",
      "LINE 7: ...1-10-19'::date,'7f8f2c8f6c88e09a86bc5a0c63ea1e3c','35405bfb7...\n",
      "                                                             ^\n",
      "\n"
     ]
    }
   ],
   "source": [
    "query = '''\n",
    "    INSERT INTO basketball.stat_sheet(\n",
    "        player, minutes_played, field_goals, field_goals_attempted, field_goal_percentage, three_pointers, three_pointers_attempted, three_pointer_percentage, \n",
    "        free_throws, free_throws_attempted, free_throw_percentage, offensive_rebounds, defensive_rebounds, total_rebounds, assists, steals, blocks, turnovers, \n",
    "        personal_fouls, points, plus_minus, team, opponent, visitor, home, date, player_id, game_id\n",
    "        )\n",
    "    VALUES %s\n",
    "    ON CONFLICT DO NOTHING\n",
    "'''\n",
    "\n",
    "    # Connect to postgres db\n",
    "try:\n",
    "    conn = psycopg2.connect(\n",
    "        dbname='sports_data',\n",
    "        user='postgres',\n",
    "        password='postgres',\n",
    "        host='localhost',\n",
    "        port='5432'\n",
    "    )\n",
    "except:\n",
    "    print('Failure to connect to database.')\n",
    "\n",
    "stat_sheet_table = get_stat_sheet_table(date, site)\n",
    "\n",
    "row_tuples = [tuple(row) for row in stat_sheet_table.values]\n",
    "with conn.cursor() as cursor:\n",
    "    try:\n",
    "        execute_values(cursor, query, row_tuples)\n",
    "        print('Successfully executed %(date)s, %(site)s stat_sheet data' % {'date': date.strftime('%Y%m%d'), 'site': site})\n",
    "    except Exception as e:\n",
    "        print(e)\n",
    "\n",
    "# Commit and close connection\n",
    "conn.commit()\n",
    "conn.close()"
   ]
  },
  {
   "cell_type": "code",
   "execution_count": 184,
   "metadata": {},
   "outputs": [
    {
     "data": {
      "text/plain": [
       "28"
      ]
     },
     "execution_count": 184,
     "metadata": {},
     "output_type": "execute_result"
    }
   ],
   "source": [
    "len(row_tuples[0])"
   ]
  },
  {
   "cell_type": "code",
   "execution_count": null,
   "metadata": {},
   "outputs": [],
   "source": [
    "def get_games_between(start: dt.date, end: dt.date) -> pd.DataFrame:\n",
    "    '''\n",
    "    Queries PostgreSQL and gets all the entire table of games.\n",
    "\n",
    "    Returns:\n",
    "        pd.DataFrame: All of the NBA games.\n",
    "    '''\n",
    "    # Connect to postgres db\n",
    "    try:\n",
    "        conn = psycopg2.connect(\n",
    "            dbname='sports_data',\n",
    "            user='postgres',\n",
    "            password='postgres',\n",
    "            host='localhost',\n",
    "            port='5432'\n",
    "        )\n",
    "    except:\n",
    "        print(\"Failure to connect to database.\")\n",
    "\n",
    "    query = 'SELECT * FROM basketball.all_games ag WHERE ag.date < %(end)s and ag.date > %(start)s'\n",
    "    all_game_data = pd.read_sql_query(query, conn, params={'start': start, 'end': end})\n",
    "\n",
    "    # Close the connection\n",
    "    conn.close()\n",
    "    return all_game_data"
   ]
  }
 ],
 "metadata": {
  "kernelspec": {
   "display_name": "Python 3",
   "language": "python",
   "name": "python3"
  },
  "language_info": {
   "codemirror_mode": {
    "name": "ipython",
    "version": 3
   },
   "file_extension": ".py",
   "mimetype": "text/x-python",
   "name": "python",
   "nbconvert_exporter": "python",
   "pygments_lexer": "ipython3",
   "version": "3.12.2"
  }
 },
 "nbformat": 4,
 "nbformat_minor": 2
}
