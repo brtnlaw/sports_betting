{
 "cells": [
  {
   "cell_type": "code",
   "execution_count": 2,
   "metadata": {},
   "outputs": [],
   "source": [
    "from urllib.request import urlopen\n",
    "from bs4 import BeautifulSoup\n",
    "import pandas as pd\n",
    "import re\n",
    "from typing import List\n",
    "from io import StringIO\n",
    "import datetime as dt"
   ]
  },
  {
   "cell_type": "code",
   "execution_count": 93,
   "metadata": {},
   "outputs": [],
   "source": [
    "def generate_url(date: dt.datetime, site: str) -> str:\n",
    "    '''\n",
    "    Generates the url for a given game at a date and game site.\n",
    "\n",
    "    Args:\n",
    "        date (dt.datetime): Date of the game.\n",
    "        site (str): Three capital letter location of game.\n",
    "\n",
    "    Returns:\n",
    "        str: Subsequent url in basketball-reference.\n",
    "    '''\n",
    "    return f'https://www.basketball-reference.com/boxscores/%(date)s0%(site)s.html' % {'date': date.strftime(\"%Y%m%d\"), 'site': site}\n",
    "\n",
    "def clean_game_table(game_table: pd.DataFrame) -> pd.DataFrame:\n",
    "    '''\n",
    "    Puts game table in clean format for PostgreSQL.\n",
    "\n",
    "    Args:\n",
    "        game_table (pd.DataFrame): Uncleaned game dataframe from parsing basketball-reference.\n",
    "\n",
    "    Returns:\n",
    "        pd.DataFrame: Cleaned table.\n",
    "    '''\n",
    "\n",
    "    # Drop \"Reserves\" and \"Team Totals\" rows\n",
    "    game_table = game_table[~game_table['Starters']].isin(['Reserves', 'Team Totals'])\n",
    "\n",
    "    # Fill NaN with 0\n",
    "    game_table.fillna(0, inplace=True)\n",
    "\n",
    "    # Drop any DNP\n",
    "    game_table = game_table[~(game_table[\"MP\"] == \"Did Not Play\")]\n",
    "    \n",
    "    return game_table\n",
    "    "
   ]
  },
  {
   "cell_type": "code",
   "execution_count": null,
   "metadata": {},
   "outputs": [],
   "source": [
    "def scrape_NBA_game_data(date: dt.datetime, site: str) -> List[pd.DataFrame]:\n",
    "    '''\n",
    "    Gets player data for an NBA game on a given date, played at a given site.\n",
    "\n",
    "    Args:\n",
    "        date (dt.datetime): Date of the game.\n",
    "        site (str): Three capital letter location of game.\n",
    "\n",
    "    Returns:\n",
    "        List[pd.DataFrame]: Cleaned list of player dataframes, one per team.\n",
    "    '''\n",
    "    \n",
    "    # URL to scrape\n",
    "    url = generate_url(dt.datetime(2021, 11, 9), 'MIL')\n",
    "\n",
    "    # collect HTML data, create beautiful Soup object\n",
    "    html = urlopen(url)\n",
    "    soup = BeautifulSoup(html, features='html.parser')\n",
    "    tables = soup.find_all('table', {'id': re.compile('box-.*-game-basic')})\n",
    "\n",
    "    # Convert the tables into a string and wrap it with StringIO\n",
    "    html_string = \"\\n\".join(str(table) for table in tables)\n",
    "    html_io = StringIO(html_string)\n",
    "\n",
    "    # Use read_html with the StringIO object; remove 'Reserves' and 'Team Totals' rows, fill in NaN\n",
    "    game_tables = pd.read_html(html_io, header=1)\n",
    "    game_tables = [clean_game_table(game_table) for game_table in game_tables]\n",
    "\n",
    "    return game_tables"
   ]
  },
  {
   "cell_type": "code",
   "execution_count": null,
   "metadata": {},
   "outputs": [],
   "source": [
    "def get_all_nba_games(year: int) -> List[str]:\n",
    "    '''\n",
    "    Retrieve URLs for NBA games for a specific season.\n",
    "\n",
    "    Args:\n",
    "        year (int): The year which the season began.\n",
    "\n",
    "    Returns:\n",
    "        List[str]: A list of NBA games for the specified year.\n",
    "    '''\n",
    "\n",
    "    # URL to scrape, notice f string:\n",
    "    url = f'https://www.basketball-reference.com/leagues/NBA_%(year)s_games.html' % {'year': year}\n",
    "    html = urlopen(url)\n",
    "\n",
    "    soup = BeautifulSoup(html, features='html.parser')\n",
    "    months = [\"October\", \"November\", \"December\", \"January\", \"February\", \"March\", \"April\", \"May\", \"June\"]"
   ]
  },
  {
   "cell_type": "code",
   "execution_count": 91,
   "metadata": {},
   "outputs": [],
   "source": [
    "test = scrape_NBA_team_data()"
   ]
  },
  {
   "cell_type": "code",
   "execution_count": null,
   "metadata": {},
   "outputs": [],
   "source": [
    "https://www.basketball-reference.com/leagues/NBA_2023_totals.html\n",
    "https://www.basketball-reference.com/leagues/NBA_%(year)s_games.html"
   ]
  }
 ],
 "metadata": {
  "kernelspec": {
   "display_name": "Python 3",
   "language": "python",
   "name": "python3"
  },
  "language_info": {
   "codemirror_mode": {
    "name": "ipython",
    "version": 3
   },
   "file_extension": ".py",
   "mimetype": "text/x-python",
   "name": "python",
   "nbconvert_exporter": "python",
   "pygments_lexer": "ipython3",
   "version": "3.12.2"
  }
 },
 "nbformat": 4,
 "nbformat_minor": 2
}
